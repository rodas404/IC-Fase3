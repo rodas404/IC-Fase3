{
 "cells": [
  {
   "cell_type": "markdown",
   "id": "c8fe6020",
   "metadata": {},
   "source": [
    "Imports"
   ]
  },
  {
   "cell_type": "code",
   "execution_count": 1,
   "id": "e61eafda",
   "metadata": {},
   "outputs": [],
   "source": [
    "import numpy as np\n",
    "from scikeras.wrappers import KerasClassifier  \n",
    "from sklearn.model_selection import GridSearchCV, RandomizedSearchCV\n",
    "from sklearn.utils import shuffle\n",
    "from tensorflow.keras import models, layers, optimizers, callbacks\n",
    "from tensorflow.keras.applications import VGG16, Xception"
   ]
  },
  {
   "cell_type": "markdown",
   "id": "ddb4308b",
   "metadata": {},
   "source": [
    "Carregar arrays de imagens e baralha-las"
   ]
  },
  {
   "cell_type": "code",
   "execution_count": 5,
   "id": "323889ee",
   "metadata": {},
   "outputs": [],
   "source": [
    "train_images = np.load('arraysTrainTest/train_images71.npy')\n",
    "train_labels = np.load('arraysTrainTest/train_labels71.npy')\n",
    "train_images, train_labels = shuffle(train_images, train_labels, random_state=25)"
   ]
  },
  {
   "cell_type": "markdown",
   "id": "e8df1995",
   "metadata": {},
   "source": [
    "Rede neuronal a otimizar"
   ]
  },
  {
   "cell_type": "code",
   "execution_count": 2,
   "id": "80d38204",
   "metadata": {},
   "outputs": [],
   "source": [
    "def keras_model(neurons):\n",
    "   \n",
    "    base_model = Xception(weights='imagenet', include_top=False, input_shape=(71, 71, 3))\n",
    "\n",
    "    for layer in base_model.layers:\n",
    "        layer.trainable = False\n",
    "    \n",
    "    callback = callbacks.EarlyStopping(monitor='loss', patience=3)\n",
    "    \n",
    "    model = models.Sequential([\n",
    "        base_model,\n",
    "        layers.Flatten(),\n",
    "        layers.Dense(neurons, activation='relu'),\n",
    "        layers.Dropout(0.5),\n",
    "        layers.Dense(neurons, activation='relu'),\n",
    "        layers.Dense(5, activation='softmax')\n",
    "    ])\n",
    "\n",
    "    \n",
    "    model.compile(optimizer=\"adam\",\n",
    "                  loss='sparse_categorical_crossentropy',\n",
    "                  metrics=['accuracy'])\n",
    "    \n",
    "    \n",
    "    \n",
    "    return model"
   ]
  },
  {
   "cell_type": "markdown",
   "id": "c25fdf06",
   "metadata": {},
   "source": [
    "Usar a função KerasClassifier para fazer de ponte entre keras e scikit-learn e definir hiper-parâmetros a otimizar"
   ]
  },
  {
   "cell_type": "code",
   "execution_count": 7,
   "id": "b5824155",
   "metadata": {},
   "outputs": [],
   "source": [
    "model = KerasClassifier(build_fn=keras_model, epochs=10, batch_size=64)\n",
    "\n",
    "params = {\n",
    "          'model__neurons':[64, 128, 256],\n",
    "          'optimizer__learning_rate': [0.0001, 0.001, 0.01],\n",
    "        }"
   ]
  },
  {
   "cell_type": "markdown",
   "id": "9d18dac9",
   "metadata": {},
   "source": [
    "GridSearch"
   ]
  },
  {
   "cell_type": "code",
   "execution_count": 8,
   "id": "ed827e72",
   "metadata": {},
   "outputs": [
    {
     "name": "stderr",
     "output_type": "stream",
     "text": [
      "C:\\Users\\footr\\anaconda3\\Lib\\site-packages\\scikeras\\wrappers.py:915: UserWarning: ``build_fn`` will be renamed to ``model`` in a future release, at which point use of ``build_fn`` will raise an Error instead.\n",
      "  X, y = self._initialize(X, y)\n"
     ]
    },
    {
     "name": "stdout",
     "output_type": "stream",
     "text": [
      "Epoch 1/10\n",
      "7/7 [==============================] - 6s 417ms/step - loss: 1.4412 - accuracy: 0.4825\n",
      "Epoch 2/10\n",
      "7/7 [==============================] - 3s 409ms/step - loss: 0.7819 - accuracy: 0.7550\n",
      "Epoch 3/10\n",
      "7/7 [==============================] - 3s 403ms/step - loss: 0.6536 - accuracy: 0.7750\n",
      "Epoch 4/10\n",
      "7/7 [==============================] - 3s 410ms/step - loss: 0.4998 - accuracy: 0.8125\n",
      "Epoch 5/10\n",
      "7/7 [==============================] - 3s 415ms/step - loss: 0.5083 - accuracy: 0.8100\n",
      "Epoch 6/10\n",
      "7/7 [==============================] - 3s 433ms/step - loss: 0.3730 - accuracy: 0.8675\n",
      "Epoch 7/10\n",
      "7/7 [==============================] - 3s 425ms/step - loss: 0.4201 - accuracy: 0.8675\n",
      "Epoch 8/10\n",
      "7/7 [==============================] - 3s 409ms/step - loss: 0.3095 - accuracy: 0.8950\n",
      "Epoch 9/10\n",
      "7/7 [==============================] - 3s 401ms/step - loss: 0.2695 - accuracy: 0.9050\n",
      "Epoch 10/10\n",
      "7/7 [==============================] - 3s 394ms/step - loss: 0.2870 - accuracy: 0.9050\n",
      "2/2 [==============================] - 2s 264ms/step\n"
     ]
    },
    {
     "name": "stderr",
     "output_type": "stream",
     "text": [
      "C:\\Users\\footr\\anaconda3\\Lib\\site-packages\\scikeras\\wrappers.py:915: UserWarning: ``build_fn`` will be renamed to ``model`` in a future release, at which point use of ``build_fn`` will raise an Error instead.\n",
      "  X, y = self._initialize(X, y)\n"
     ]
    },
    {
     "name": "stdout",
     "output_type": "stream",
     "text": [
      "Epoch 1/10\n",
      "7/7 [==============================] - 6s 417ms/step - loss: 1.7432 - accuracy: 0.3925\n",
      "Epoch 2/10\n",
      "7/7 [==============================] - 3s 422ms/step - loss: 0.9954 - accuracy: 0.6275\n",
      "Epoch 3/10\n",
      "7/7 [==============================] - 3s 424ms/step - loss: 0.9642 - accuracy: 0.6050\n",
      "Epoch 4/10\n",
      "7/7 [==============================] - 3s 432ms/step - loss: 0.7145 - accuracy: 0.7350\n",
      "Epoch 5/10\n",
      "7/7 [==============================] - 3s 431ms/step - loss: 0.6297 - accuracy: 0.7575\n",
      "Epoch 6/10\n",
      "7/7 [==============================] - 3s 418ms/step - loss: 0.5222 - accuracy: 0.7900\n",
      "Epoch 7/10\n",
      "7/7 [==============================] - 3s 404ms/step - loss: 0.4551 - accuracy: 0.8425\n",
      "Epoch 8/10\n",
      "7/7 [==============================] - 3s 418ms/step - loss: 0.4482 - accuracy: 0.8225\n",
      "Epoch 9/10\n",
      "7/7 [==============================] - 3s 394ms/step - loss: 0.3386 - accuracy: 0.8850\n",
      "Epoch 10/10\n",
      "7/7 [==============================] - 3s 394ms/step - loss: 0.3529 - accuracy: 0.8725\n",
      "2/2 [==============================] - 2s 267ms/step\n"
     ]
    },
    {
     "name": "stderr",
     "output_type": "stream",
     "text": [
      "C:\\Users\\footr\\anaconda3\\Lib\\site-packages\\scikeras\\wrappers.py:915: UserWarning: ``build_fn`` will be renamed to ``model`` in a future release, at which point use of ``build_fn`` will raise an Error instead.\n",
      "  X, y = self._initialize(X, y)\n"
     ]
    },
    {
     "name": "stdout",
     "output_type": "stream",
     "text": [
      "Epoch 1/10\n",
      "7/7 [==============================] - 6s 404ms/step - loss: 1.5196 - accuracy: 0.5050\n",
      "Epoch 2/10\n",
      "7/7 [==============================] - 3s 409ms/step - loss: 0.9570 - accuracy: 0.7225\n",
      "Epoch 3/10\n",
      "7/7 [==============================] - 3s 417ms/step - loss: 0.5822 - accuracy: 0.7925\n",
      "Epoch 4/10\n",
      "7/7 [==============================] - 3s 434ms/step - loss: 0.5536 - accuracy: 0.7975\n",
      "Epoch 5/10\n",
      "7/7 [==============================] - 3s 396ms/step - loss: 0.4752 - accuracy: 0.8350\n",
      "Epoch 6/10\n",
      "7/7 [==============================] - 3s 393ms/step - loss: 0.4918 - accuracy: 0.8350\n",
      "Epoch 7/10\n",
      "7/7 [==============================] - 3s 400ms/step - loss: 0.3452 - accuracy: 0.8925\n",
      "Epoch 8/10\n",
      "7/7 [==============================] - 3s 408ms/step - loss: 0.3370 - accuracy: 0.8825\n",
      "Epoch 9/10\n",
      "7/7 [==============================] - 3s 401ms/step - loss: 0.2907 - accuracy: 0.9250\n",
      "Epoch 10/10\n",
      "7/7 [==============================] - 3s 388ms/step - loss: 0.2497 - accuracy: 0.9125\n",
      "2/2 [==============================] - 1s 243ms/step\n"
     ]
    },
    {
     "name": "stderr",
     "output_type": "stream",
     "text": [
      "C:\\Users\\footr\\anaconda3\\Lib\\site-packages\\scikeras\\wrappers.py:915: UserWarning: ``build_fn`` will be renamed to ``model`` in a future release, at which point use of ``build_fn`` will raise an Error instead.\n",
      "  X, y = self._initialize(X, y)\n"
     ]
    },
    {
     "name": "stdout",
     "output_type": "stream",
     "text": [
      "Epoch 1/10\n",
      "7/7 [==============================] - 6s 409ms/step - loss: 1.6471 - accuracy: 0.4000\n",
      "Epoch 2/10\n",
      "7/7 [==============================] - 3s 424ms/step - loss: 1.0712 - accuracy: 0.5800\n",
      "Epoch 3/10\n",
      "7/7 [==============================] - 3s 430ms/step - loss: 0.8422 - accuracy: 0.6775\n",
      "Epoch 4/10\n",
      "7/7 [==============================] - 3s 403ms/step - loss: 0.7757 - accuracy: 0.7275\n",
      "Epoch 5/10\n",
      "7/7 [==============================] - 3s 415ms/step - loss: 0.6807 - accuracy: 0.7350\n",
      "Epoch 6/10\n",
      "7/7 [==============================] - 3s 417ms/step - loss: 0.6134 - accuracy: 0.7650\n",
      "Epoch 7/10\n",
      "7/7 [==============================] - 3s 421ms/step - loss: 0.5325 - accuracy: 0.7850\n",
      "Epoch 8/10\n",
      "7/7 [==============================] - 3s 428ms/step - loss: 0.5337 - accuracy: 0.7925\n",
      "Epoch 9/10\n",
      "7/7 [==============================] - 3s 404ms/step - loss: 0.4195 - accuracy: 0.8375\n",
      "Epoch 10/10\n",
      "7/7 [==============================] - 3s 388ms/step - loss: 0.4686 - accuracy: 0.8225\n",
      "2/2 [==============================] - 2s 275ms/step\n"
     ]
    },
    {
     "name": "stderr",
     "output_type": "stream",
     "text": [
      "C:\\Users\\footr\\anaconda3\\Lib\\site-packages\\scikeras\\wrappers.py:915: UserWarning: ``build_fn`` will be renamed to ``model`` in a future release, at which point use of ``build_fn`` will raise an Error instead.\n",
      "  X, y = self._initialize(X, y)\n"
     ]
    },
    {
     "name": "stdout",
     "output_type": "stream",
     "text": [
      "Epoch 1/10\n",
      "7/7 [==============================] - 7s 429ms/step - loss: 1.4261 - accuracy: 0.4750\n",
      "Epoch 2/10\n",
      "7/7 [==============================] - 3s 396ms/step - loss: 0.8617 - accuracy: 0.6625\n",
      "Epoch 3/10\n",
      "7/7 [==============================] - 3s 400ms/step - loss: 0.8217 - accuracy: 0.7025\n",
      "Epoch 4/10\n",
      "7/7 [==============================] - 3s 414ms/step - loss: 0.6240 - accuracy: 0.7425\n",
      "Epoch 5/10\n",
      "7/7 [==============================] - 3s 416ms/step - loss: 0.5387 - accuracy: 0.7875\n",
      "Epoch 6/10\n",
      "7/7 [==============================] - 3s 419ms/step - loss: 0.6066 - accuracy: 0.8375\n",
      "Epoch 7/10\n",
      "7/7 [==============================] - 3s 413ms/step - loss: 0.4688 - accuracy: 0.8250\n",
      "Epoch 8/10\n",
      "7/7 [==============================] - 3s 412ms/step - loss: 0.3980 - accuracy: 0.8475\n",
      "Epoch 9/10\n",
      "7/7 [==============================] - 3s 431ms/step - loss: 0.3959 - accuracy: 0.8625\n",
      "Epoch 10/10\n",
      "7/7 [==============================] - 3s 432ms/step - loss: 0.3441 - accuracy: 0.8775\n",
      "WARNING:tensorflow:5 out of the last 9 calls to <function Model.make_predict_function.<locals>.predict_function at 0x000001D81DF3ED40> triggered tf.function retracing. Tracing is expensive and the excessive number of tracings could be due to (1) creating @tf.function repeatedly in a loop, (2) passing tensors with different shapes, (3) passing Python objects instead of tensors. For (1), please define your @tf.function outside of the loop. For (2), @tf.function has reduce_retracing=True option that can avoid unnecessary retracing. For (3), please refer to https://www.tensorflow.org/guide/function#controlling_retracing and https://www.tensorflow.org/api_docs/python/tf/function for  more details.\n",
      "2/2 [==============================] - 2s 294ms/step\n"
     ]
    },
    {
     "name": "stderr",
     "output_type": "stream",
     "text": [
      "C:\\Users\\footr\\anaconda3\\Lib\\site-packages\\scikeras\\wrappers.py:915: UserWarning: ``build_fn`` will be renamed to ``model`` in a future release, at which point use of ``build_fn`` will raise an Error instead.\n",
      "  X, y = self._initialize(X, y)\n"
     ]
    },
    {
     "name": "stdout",
     "output_type": "stream",
     "text": [
      "Epoch 1/10\n",
      "7/7 [==============================] - 7s 447ms/step - loss: 1.5380 - accuracy: 0.4025\n",
      "Epoch 2/10\n",
      "7/7 [==============================] - 3s 470ms/step - loss: 0.9635 - accuracy: 0.6750\n",
      "Epoch 3/10\n",
      "7/7 [==============================] - 3s 442ms/step - loss: 0.6185 - accuracy: 0.7675\n",
      "Epoch 4/10\n",
      "7/7 [==============================] - 3s 441ms/step - loss: 0.5586 - accuracy: 0.7900\n",
      "Epoch 5/10\n",
      "7/7 [==============================] - 3s 421ms/step - loss: 0.4881 - accuracy: 0.8175\n",
      "Epoch 6/10\n",
      "7/7 [==============================] - 3s 425ms/step - loss: 0.3876 - accuracy: 0.8650\n",
      "Epoch 7/10\n",
      "7/7 [==============================] - 3s 430ms/step - loss: 0.3962 - accuracy: 0.8450\n",
      "Epoch 8/10\n",
      "7/7 [==============================] - 3s 435ms/step - loss: 0.3313 - accuracy: 0.8725\n",
      "Epoch 9/10\n",
      "7/7 [==============================] - 3s 424ms/step - loss: 0.2859 - accuracy: 0.9150\n",
      "Epoch 10/10\n",
      "7/7 [==============================] - 3s 404ms/step - loss: 0.2436 - accuracy: 0.9200\n",
      "WARNING:tensorflow:6 out of the last 11 calls to <function Model.make_predict_function.<locals>.predict_function at 0x000001D83E47A660> triggered tf.function retracing. Tracing is expensive and the excessive number of tracings could be due to (1) creating @tf.function repeatedly in a loop, (2) passing tensors with different shapes, (3) passing Python objects instead of tensors. For (1), please define your @tf.function outside of the loop. For (2), @tf.function has reduce_retracing=True option that can avoid unnecessary retracing. For (3), please refer to https://www.tensorflow.org/guide/function#controlling_retracing and https://www.tensorflow.org/api_docs/python/tf/function for  more details.\n",
      "2/2 [==============================] - 2s 263ms/step\n"
     ]
    },
    {
     "name": "stderr",
     "output_type": "stream",
     "text": [
      "C:\\Users\\footr\\anaconda3\\Lib\\site-packages\\scikeras\\wrappers.py:915: UserWarning: ``build_fn`` will be renamed to ``model`` in a future release, at which point use of ``build_fn`` will raise an Error instead.\n",
      "  X, y = self._initialize(X, y)\n"
     ]
    },
    {
     "name": "stdout",
     "output_type": "stream",
     "text": [
      "Epoch 1/10\n",
      "7/7 [==============================] - 6s 391ms/step - loss: 1.5672 - accuracy: 0.3850\n",
      "Epoch 2/10\n",
      "7/7 [==============================] - 3s 391ms/step - loss: 1.1180 - accuracy: 0.5900\n",
      "Epoch 3/10\n",
      "7/7 [==============================] - 3s 382ms/step - loss: 0.9444 - accuracy: 0.6550\n",
      "Epoch 4/10\n",
      "7/7 [==============================] - 3s 370ms/step - loss: 0.7448 - accuracy: 0.7275\n",
      "Epoch 5/10\n",
      "7/7 [==============================] - 3s 373ms/step - loss: 0.5914 - accuracy: 0.8050\n",
      "Epoch 6/10\n",
      "7/7 [==============================] - 3s 375ms/step - loss: 0.6353 - accuracy: 0.7800\n",
      "Epoch 7/10\n",
      "7/7 [==============================] - 3s 381ms/step - loss: 0.5222 - accuracy: 0.8150\n",
      "Epoch 8/10\n",
      "7/7 [==============================] - 3s 394ms/step - loss: 0.4673 - accuracy: 0.8375\n",
      "Epoch 9/10\n",
      "7/7 [==============================] - 3s 385ms/step - loss: 0.4574 - accuracy: 0.8400\n",
      "Epoch 10/10\n",
      "7/7 [==============================] - 3s 374ms/step - loss: 0.4418 - accuracy: 0.8475\n",
      "2/2 [==============================] - 1s 242ms/step\n"
     ]
    },
    {
     "name": "stderr",
     "output_type": "stream",
     "text": [
      "C:\\Users\\footr\\anaconda3\\Lib\\site-packages\\scikeras\\wrappers.py:915: UserWarning: ``build_fn`` will be renamed to ``model`` in a future release, at which point use of ``build_fn`` will raise an Error instead.\n",
      "  X, y = self._initialize(X, y)\n"
     ]
    },
    {
     "name": "stdout",
     "output_type": "stream",
     "text": [
      "Epoch 1/10\n",
      "7/7 [==============================] - 6s 405ms/step - loss: 1.6708 - accuracy: 0.4425\n",
      "Epoch 2/10\n",
      "7/7 [==============================] - 3s 407ms/step - loss: 1.1061 - accuracy: 0.6575\n",
      "Epoch 3/10\n",
      "7/7 [==============================] - 3s 394ms/step - loss: 0.8182 - accuracy: 0.7050\n",
      "Epoch 4/10\n",
      "7/7 [==============================] - 3s 403ms/step - loss: 0.5488 - accuracy: 0.7825\n",
      "Epoch 5/10\n",
      "7/7 [==============================] - 3s 403ms/step - loss: 0.4826 - accuracy: 0.8350\n",
      "Epoch 6/10\n",
      "7/7 [==============================] - 3s 406ms/step - loss: 0.3469 - accuracy: 0.8850\n",
      "Epoch 7/10\n",
      "7/7 [==============================] - 3s 402ms/step - loss: 0.3389 - accuracy: 0.8875\n",
      "Epoch 8/10\n",
      "7/7 [==============================] - 3s 396ms/step - loss: 0.3225 - accuracy: 0.9075\n",
      "Epoch 9/10\n",
      "7/7 [==============================] - 3s 374ms/step - loss: 0.2791 - accuracy: 0.9075\n",
      "Epoch 10/10\n",
      "7/7 [==============================] - 3s 377ms/step - loss: 0.2753 - accuracy: 0.9050\n",
      "2/2 [==============================] - 1s 238ms/step\n"
     ]
    },
    {
     "name": "stderr",
     "output_type": "stream",
     "text": [
      "C:\\Users\\footr\\anaconda3\\Lib\\site-packages\\scikeras\\wrappers.py:915: UserWarning: ``build_fn`` will be renamed to ``model`` in a future release, at which point use of ``build_fn`` will raise an Error instead.\n",
      "  X, y = self._initialize(X, y)\n"
     ]
    },
    {
     "name": "stdout",
     "output_type": "stream",
     "text": [
      "Epoch 1/10\n",
      "7/7 [==============================] - 6s 384ms/step - loss: 1.4270 - accuracy: 0.4650\n",
      "Epoch 2/10\n",
      "7/7 [==============================] - 3s 383ms/step - loss: 0.9758 - accuracy: 0.6700\n",
      "Epoch 3/10\n",
      "7/7 [==============================] - 3s 395ms/step - loss: 0.8671 - accuracy: 0.6975\n",
      "Epoch 4/10\n",
      "7/7 [==============================] - 3s 377ms/step - loss: 0.6676 - accuracy: 0.7550\n",
      "Epoch 5/10\n",
      "7/7 [==============================] - 3s 397ms/step - loss: 0.6458 - accuracy: 0.7825\n",
      "Epoch 6/10\n",
      "7/7 [==============================] - 3s 392ms/step - loss: 0.5065 - accuracy: 0.8150\n",
      "Epoch 7/10\n",
      "7/7 [==============================] - 3s 398ms/step - loss: 0.4250 - accuracy: 0.8375\n",
      "Epoch 8/10\n",
      "7/7 [==============================] - 3s 383ms/step - loss: 0.4136 - accuracy: 0.8550\n",
      "Epoch 9/10\n",
      "7/7 [==============================] - 3s 387ms/step - loss: 0.4084 - accuracy: 0.8275\n",
      "Epoch 10/10\n",
      "7/7 [==============================] - 3s 392ms/step - loss: 0.3467 - accuracy: 0.8675\n",
      "2/2 [==============================] - 2s 270ms/step\n"
     ]
    },
    {
     "name": "stderr",
     "output_type": "stream",
     "text": [
      "C:\\Users\\footr\\anaconda3\\Lib\\site-packages\\scikeras\\wrappers.py:915: UserWarning: ``build_fn`` will be renamed to ``model`` in a future release, at which point use of ``build_fn`` will raise an Error instead.\n",
      "  X, y = self._initialize(X, y)\n"
     ]
    },
    {
     "name": "stdout",
     "output_type": "stream",
     "text": [
      "Epoch 1/10\n",
      "7/7 [==============================] - 6s 390ms/step - loss: 1.5607 - accuracy: 0.4475\n",
      "Epoch 2/10\n",
      "7/7 [==============================] - 3s 395ms/step - loss: 1.1217 - accuracy: 0.5925\n",
      "Epoch 3/10\n",
      "7/7 [==============================] - 3s 389ms/step - loss: 0.7526 - accuracy: 0.6975\n",
      "Epoch 4/10\n",
      "7/7 [==============================] - 3s 404ms/step - loss: 0.6110 - accuracy: 0.7825\n",
      "Epoch 5/10\n",
      "7/7 [==============================] - 3s 399ms/step - loss: 0.6260 - accuracy: 0.8075\n",
      "Epoch 6/10\n",
      "7/7 [==============================] - 3s 421ms/step - loss: 0.5290 - accuracy: 0.8300\n",
      "Epoch 7/10\n",
      "7/7 [==============================] - 3s 390ms/step - loss: 0.5690 - accuracy: 0.8050\n",
      "Epoch 8/10\n",
      "7/7 [==============================] - 3s 389ms/step - loss: 0.3562 - accuracy: 0.8775\n",
      "Epoch 9/10\n",
      "7/7 [==============================] - 3s 396ms/step - loss: 0.3491 - accuracy: 0.8800\n",
      "Epoch 10/10\n",
      "7/7 [==============================] - 3s 402ms/step - loss: 0.2883 - accuracy: 0.9000\n",
      "2/2 [==============================] - 2s 272ms/step\n"
     ]
    },
    {
     "name": "stderr",
     "output_type": "stream",
     "text": [
      "C:\\Users\\footr\\anaconda3\\Lib\\site-packages\\scikeras\\wrappers.py:915: UserWarning: ``build_fn`` will be renamed to ``model`` in a future release, at which point use of ``build_fn`` will raise an Error instead.\n",
      "  X, y = self._initialize(X, y)\n"
     ]
    },
    {
     "name": "stdout",
     "output_type": "stream",
     "text": [
      "Epoch 1/10\n",
      "7/7 [==============================] - 6s 401ms/step - loss: 1.8142 - accuracy: 0.3975\n",
      "Epoch 2/10\n",
      "7/7 [==============================] - 3s 401ms/step - loss: 0.9381 - accuracy: 0.6400\n",
      "Epoch 3/10\n",
      "7/7 [==============================] - 3s 418ms/step - loss: 0.7837 - accuracy: 0.6900\n",
      "Epoch 4/10\n",
      "7/7 [==============================] - 3s 472ms/step - loss: 0.6584 - accuracy: 0.7825\n",
      "Epoch 5/10\n",
      "7/7 [==============================] - 3s 435ms/step - loss: 0.4793 - accuracy: 0.8225\n",
      "Epoch 6/10\n",
      "7/7 [==============================] - 3s 420ms/step - loss: 0.4621 - accuracy: 0.8400\n",
      "Epoch 7/10\n",
      "7/7 [==============================] - 3s 438ms/step - loss: 0.4666 - accuracy: 0.8450\n",
      "Epoch 8/10\n",
      "7/7 [==============================] - 3s 436ms/step - loss: 0.3730 - accuracy: 0.8750\n",
      "Epoch 9/10\n",
      "7/7 [==============================] - 3s 441ms/step - loss: 0.3203 - accuracy: 0.8800\n",
      "Epoch 10/10\n",
      "7/7 [==============================] - 3s 436ms/step - loss: 0.3006 - accuracy: 0.9025\n",
      "2/2 [==============================] - 2s 327ms/step\n"
     ]
    },
    {
     "name": "stderr",
     "output_type": "stream",
     "text": [
      "C:\\Users\\footr\\anaconda3\\Lib\\site-packages\\scikeras\\wrappers.py:915: UserWarning: ``build_fn`` will be renamed to ``model`` in a future release, at which point use of ``build_fn`` will raise an Error instead.\n",
      "  X, y = self._initialize(X, y)\n"
     ]
    },
    {
     "name": "stdout",
     "output_type": "stream",
     "text": [
      "Epoch 1/10\n",
      "7/7 [==============================] - 7s 414ms/step - loss: 1.6979 - accuracy: 0.4575\n",
      "Epoch 2/10\n",
      "7/7 [==============================] - 3s 422ms/step - loss: 1.0820 - accuracy: 0.6375\n",
      "Epoch 3/10\n",
      "7/7 [==============================] - 3s 428ms/step - loss: 0.8824 - accuracy: 0.7250\n",
      "Epoch 4/10\n",
      "7/7 [==============================] - 3s 394ms/step - loss: 0.6094 - accuracy: 0.7925\n",
      "Epoch 5/10\n",
      "7/7 [==============================] - 3s 408ms/step - loss: 0.5489 - accuracy: 0.8000\n",
      "Epoch 6/10\n",
      "7/7 [==============================] - 3s 405ms/step - loss: 0.5081 - accuracy: 0.8175\n",
      "Epoch 7/10\n",
      "7/7 [==============================] - 3s 394ms/step - loss: 0.4289 - accuracy: 0.8500\n",
      "Epoch 8/10\n",
      "7/7 [==============================] - 3s 392ms/step - loss: 0.3583 - accuracy: 0.8900\n",
      "Epoch 9/10\n",
      "7/7 [==============================] - 3s 412ms/step - loss: 0.4071 - accuracy: 0.8525\n",
      "Epoch 10/10\n",
      "7/7 [==============================] - 3s 415ms/step - loss: 0.3257 - accuracy: 0.8725\n",
      "2/2 [==============================] - 2s 280ms/step\n"
     ]
    },
    {
     "name": "stderr",
     "output_type": "stream",
     "text": [
      "C:\\Users\\footr\\anaconda3\\Lib\\site-packages\\scikeras\\wrappers.py:915: UserWarning: ``build_fn`` will be renamed to ``model`` in a future release, at which point use of ``build_fn`` will raise an Error instead.\n",
      "  X, y = self._initialize(X, y)\n"
     ]
    },
    {
     "name": "stdout",
     "output_type": "stream",
     "text": [
      "Epoch 1/10\n",
      "7/7 [==============================] - 6s 400ms/step - loss: 1.5796 - accuracy: 0.4625\n",
      "Epoch 2/10\n",
      "7/7 [==============================] - 3s 400ms/step - loss: 0.9455 - accuracy: 0.6575\n",
      "Epoch 3/10\n",
      "7/7 [==============================] - 3s 409ms/step - loss: 0.7031 - accuracy: 0.7450\n",
      "Epoch 4/10\n",
      "7/7 [==============================] - 3s 394ms/step - loss: 0.6063 - accuracy: 0.8225\n",
      "Epoch 5/10\n",
      "7/7 [==============================] - 3s 410ms/step - loss: 0.5180 - accuracy: 0.8350\n",
      "Epoch 6/10\n",
      "7/7 [==============================] - 3s 389ms/step - loss: 0.3937 - accuracy: 0.8725\n",
      "Epoch 7/10\n",
      "7/7 [==============================] - 3s 434ms/step - loss: 0.3668 - accuracy: 0.8675\n",
      "Epoch 8/10\n",
      "7/7 [==============================] - 3s 447ms/step - loss: 0.3158 - accuracy: 0.9175\n",
      "Epoch 9/10\n",
      "7/7 [==============================] - 3s 443ms/step - loss: 0.3251 - accuracy: 0.8875\n",
      "Epoch 10/10\n",
      "7/7 [==============================] - 3s 442ms/step - loss: 0.2886 - accuracy: 0.9150\n",
      "2/2 [==============================] - 2s 322ms/step\n"
     ]
    },
    {
     "name": "stderr",
     "output_type": "stream",
     "text": [
      "C:\\Users\\footr\\anaconda3\\Lib\\site-packages\\scikeras\\wrappers.py:915: UserWarning: ``build_fn`` will be renamed to ``model`` in a future release, at which point use of ``build_fn`` will raise an Error instead.\n",
      "  X, y = self._initialize(X, y)\n"
     ]
    },
    {
     "name": "stdout",
     "output_type": "stream",
     "text": [
      "Epoch 1/10\n",
      "7/7 [==============================] - 6s 426ms/step - loss: 1.4776 - accuracy: 0.4250\n",
      "Epoch 2/10\n",
      "7/7 [==============================] - 3s 414ms/step - loss: 0.9333 - accuracy: 0.7050\n",
      "Epoch 3/10\n",
      "7/7 [==============================] - 3s 420ms/step - loss: 0.8722 - accuracy: 0.6825\n",
      "Epoch 4/10\n",
      "7/7 [==============================] - 3s 405ms/step - loss: 0.6610 - accuracy: 0.7525\n",
      "Epoch 5/10\n",
      "7/7 [==============================] - 3s 417ms/step - loss: 0.5697 - accuracy: 0.8025\n",
      "Epoch 6/10\n",
      "7/7 [==============================] - 3s 452ms/step - loss: 0.5314 - accuracy: 0.8200\n",
      "Epoch 7/10\n",
      "7/7 [==============================] - 3s 442ms/step - loss: 0.4361 - accuracy: 0.8375\n",
      "Epoch 8/10\n",
      "7/7 [==============================] - 3s 450ms/step - loss: 0.4013 - accuracy: 0.8650\n",
      "Epoch 9/10\n",
      "7/7 [==============================] - 3s 441ms/step - loss: 0.4384 - accuracy: 0.8475\n",
      "Epoch 10/10\n",
      "7/7 [==============================] - 3s 414ms/step - loss: 0.3390 - accuracy: 0.8775\n",
      "2/2 [==============================] - 2s 274ms/step\n"
     ]
    },
    {
     "name": "stderr",
     "output_type": "stream",
     "text": [
      "C:\\Users\\footr\\anaconda3\\Lib\\site-packages\\scikeras\\wrappers.py:915: UserWarning: ``build_fn`` will be renamed to ``model`` in a future release, at which point use of ``build_fn`` will raise an Error instead.\n",
      "  X, y = self._initialize(X, y)\n"
     ]
    },
    {
     "name": "stdout",
     "output_type": "stream",
     "text": [
      "Epoch 1/10\n",
      "7/7 [==============================] - 6s 401ms/step - loss: 2.1432 - accuracy: 0.3325\n",
      "Epoch 2/10\n",
      "7/7 [==============================] - 3s 400ms/step - loss: 1.1140 - accuracy: 0.5875\n",
      "Epoch 3/10\n",
      "7/7 [==============================] - 3s 412ms/step - loss: 0.8529 - accuracy: 0.6700\n",
      "Epoch 4/10\n",
      "7/7 [==============================] - 3s 417ms/step - loss: 0.7674 - accuracy: 0.7325\n",
      "Epoch 5/10\n",
      "7/7 [==============================] - 3s 423ms/step - loss: 0.6283 - accuracy: 0.7575\n",
      "Epoch 6/10\n",
      "7/7 [==============================] - 3s 402ms/step - loss: 0.6032 - accuracy: 0.7525\n",
      "Epoch 7/10\n",
      "7/7 [==============================] - 3s 401ms/step - loss: 0.5382 - accuracy: 0.8075\n",
      "Epoch 8/10\n",
      "7/7 [==============================] - 3s 410ms/step - loss: 0.4484 - accuracy: 0.8375\n",
      "Epoch 9/10\n",
      "7/7 [==============================] - 3s 391ms/step - loss: 0.4743 - accuracy: 0.8050\n",
      "Epoch 10/10\n",
      "7/7 [==============================] - 3s 410ms/step - loss: 0.4435 - accuracy: 0.8350\n",
      "2/2 [==============================] - 2s 266ms/step\n"
     ]
    },
    {
     "name": "stderr",
     "output_type": "stream",
     "text": [
      "C:\\Users\\footr\\anaconda3\\Lib\\site-packages\\scikeras\\wrappers.py:915: UserWarning: ``build_fn`` will be renamed to ``model`` in a future release, at which point use of ``build_fn`` will raise an Error instead.\n",
      "  X, y = self._initialize(X, y)\n"
     ]
    },
    {
     "name": "stdout",
     "output_type": "stream",
     "text": [
      "Epoch 1/10\n",
      "7/7 [==============================] - 7s 557ms/step - loss: 1.8160 - accuracy: 0.4475\n",
      "Epoch 2/10\n",
      "7/7 [==============================] - 4s 520ms/step - loss: 0.9952 - accuracy: 0.7000\n",
      "Epoch 3/10\n",
      "7/7 [==============================] - 4s 503ms/step - loss: 0.6471 - accuracy: 0.7625\n",
      "Epoch 4/10\n",
      "7/7 [==============================] - 3s 459ms/step - loss: 0.5748 - accuracy: 0.8025\n",
      "Epoch 5/10\n",
      "7/7 [==============================] - 4s 492ms/step - loss: 0.3328 - accuracy: 0.8900\n",
      "Epoch 6/10\n",
      "7/7 [==============================] - 3s 472ms/step - loss: 0.3028 - accuracy: 0.8875\n",
      "Epoch 7/10\n",
      "7/7 [==============================] - 4s 501ms/step - loss: 0.2807 - accuracy: 0.8900\n",
      "Epoch 8/10\n",
      "7/7 [==============================] - 4s 502ms/step - loss: 0.3193 - accuracy: 0.8950\n",
      "Epoch 9/10\n",
      "7/7 [==============================] - 3s 489ms/step - loss: 0.2631 - accuracy: 0.9300\n",
      "Epoch 10/10\n",
      "7/7 [==============================] - 3s 491ms/step - loss: 0.2806 - accuracy: 0.8975\n",
      "2/2 [==============================] - 2s 295ms/step\n"
     ]
    },
    {
     "name": "stderr",
     "output_type": "stream",
     "text": [
      "C:\\Users\\footr\\anaconda3\\Lib\\site-packages\\scikeras\\wrappers.py:915: UserWarning: ``build_fn`` will be renamed to ``model`` in a future release, at which point use of ``build_fn`` will raise an Error instead.\n",
      "  X, y = self._initialize(X, y)\n"
     ]
    },
    {
     "name": "stdout",
     "output_type": "stream",
     "text": [
      "Epoch 1/10\n",
      "7/7 [==============================] - 7s 519ms/step - loss: 1.4622 - accuracy: 0.4925\n",
      "Epoch 2/10\n",
      "7/7 [==============================] - 4s 522ms/step - loss: 0.7118 - accuracy: 0.7600\n",
      "Epoch 3/10\n",
      "7/7 [==============================] - 4s 528ms/step - loss: 0.6627 - accuracy: 0.7825\n",
      "Epoch 4/10\n",
      "7/7 [==============================] - 4s 521ms/step - loss: 0.4805 - accuracy: 0.8225\n",
      "Epoch 5/10\n",
      "7/7 [==============================] - 3s 475ms/step - loss: 0.3523 - accuracy: 0.8675\n",
      "Epoch 6/10\n",
      "7/7 [==============================] - 3s 478ms/step - loss: 0.2956 - accuracy: 0.8950\n",
      "Epoch 7/10\n",
      "7/7 [==============================] - 4s 494ms/step - loss: 0.3029 - accuracy: 0.8925\n",
      "Epoch 8/10\n",
      "7/7 [==============================] - 3s 475ms/step - loss: 0.2537 - accuracy: 0.9225\n",
      "Epoch 9/10\n",
      "7/7 [==============================] - 4s 510ms/step - loss: 0.2257 - accuracy: 0.9200\n",
      "Epoch 10/10\n",
      "7/7 [==============================] - 3s 453ms/step - loss: 0.1807 - accuracy: 0.9375\n",
      "2/2 [==============================] - 2s 277ms/step\n"
     ]
    },
    {
     "name": "stderr",
     "output_type": "stream",
     "text": [
      "C:\\Users\\footr\\anaconda3\\Lib\\site-packages\\scikeras\\wrappers.py:915: UserWarning: ``build_fn`` will be renamed to ``model`` in a future release, at which point use of ``build_fn`` will raise an Error instead.\n",
      "  X, y = self._initialize(X, y)\n"
     ]
    },
    {
     "name": "stdout",
     "output_type": "stream",
     "text": [
      "Epoch 1/10\n",
      "7/7 [==============================] - 7s 427ms/step - loss: 1.3144 - accuracy: 0.5425\n",
      "Epoch 2/10\n",
      "7/7 [==============================] - 4s 520ms/step - loss: 0.9731 - accuracy: 0.7500\n",
      "Epoch 3/10\n",
      "7/7 [==============================] - 4s 515ms/step - loss: 0.5700 - accuracy: 0.8325\n",
      "Epoch 4/10\n",
      "7/7 [==============================] - 4s 514ms/step - loss: 0.4249 - accuracy: 0.8575\n",
      "Epoch 5/10\n",
      "7/7 [==============================] - 4s 483ms/step - loss: 0.3408 - accuracy: 0.9000\n",
      "Epoch 6/10\n",
      "7/7 [==============================] - 4s 566ms/step - loss: 0.3605 - accuracy: 0.8775\n",
      "Epoch 7/10\n",
      "7/7 [==============================] - 4s 510ms/step - loss: 0.2520 - accuracy: 0.9200\n",
      "Epoch 8/10\n",
      "7/7 [==============================] - 4s 536ms/step - loss: 0.2693 - accuracy: 0.9100\n",
      "Epoch 9/10\n",
      "7/7 [==============================] - 3s 482ms/step - loss: 0.2450 - accuracy: 0.9225\n",
      "Epoch 10/10\n",
      "7/7 [==============================] - 3s 448ms/step - loss: 0.1667 - accuracy: 0.9625\n",
      "2/2 [==============================] - 2s 291ms/step\n"
     ]
    },
    {
     "name": "stderr",
     "output_type": "stream",
     "text": [
      "C:\\Users\\footr\\anaconda3\\Lib\\site-packages\\scikeras\\wrappers.py:915: UserWarning: ``build_fn`` will be renamed to ``model`` in a future release, at which point use of ``build_fn`` will raise an Error instead.\n",
      "  X, y = self._initialize(X, y)\n"
     ]
    },
    {
     "name": "stdout",
     "output_type": "stream",
     "text": [
      "Epoch 1/10\n",
      "7/7 [==============================] - 7s 482ms/step - loss: 2.0502 - accuracy: 0.4125\n",
      "Epoch 2/10\n",
      "7/7 [==============================] - 4s 509ms/step - loss: 1.0992 - accuracy: 0.6975\n",
      "Epoch 3/10\n",
      "7/7 [==============================] - 3s 454ms/step - loss: 0.6826 - accuracy: 0.7825\n",
      "Epoch 4/10\n",
      "7/7 [==============================] - 3s 470ms/step - loss: 0.5831 - accuracy: 0.8050\n",
      "Epoch 5/10\n",
      "7/7 [==============================] - 3s 472ms/step - loss: 0.4222 - accuracy: 0.8550\n",
      "Epoch 6/10\n",
      "7/7 [==============================] - 3s 467ms/step - loss: 0.3353 - accuracy: 0.8900\n",
      "Epoch 7/10\n",
      "7/7 [==============================] - 4s 518ms/step - loss: 0.2979 - accuracy: 0.9150\n",
      "Epoch 8/10\n",
      "7/7 [==============================] - 3s 462ms/step - loss: 0.3419 - accuracy: 0.8800\n",
      "Epoch 9/10\n",
      "7/7 [==============================] - 3s 482ms/step - loss: 0.2886 - accuracy: 0.9125\n",
      "Epoch 10/10\n",
      "7/7 [==============================] - 4s 512ms/step - loss: 0.1998 - accuracy: 0.9375\n",
      "2/2 [==============================] - 2s 282ms/step\n"
     ]
    },
    {
     "name": "stderr",
     "output_type": "stream",
     "text": [
      "C:\\Users\\footr\\anaconda3\\Lib\\site-packages\\scikeras\\wrappers.py:915: UserWarning: ``build_fn`` will be renamed to ``model`` in a future release, at which point use of ``build_fn`` will raise an Error instead.\n",
      "  X, y = self._initialize(X, y)\n"
     ]
    },
    {
     "name": "stdout",
     "output_type": "stream",
     "text": [
      "Epoch 1/10\n",
      "7/7 [==============================] - 8s 591ms/step - loss: 1.8414 - accuracy: 0.5125\n",
      "Epoch 2/10\n",
      "7/7 [==============================] - 4s 547ms/step - loss: 1.0271 - accuracy: 0.7025\n",
      "Epoch 3/10\n",
      "7/7 [==============================] - 4s 560ms/step - loss: 0.7566 - accuracy: 0.7825\n",
      "Epoch 4/10\n",
      "7/7 [==============================] - 3s 477ms/step - loss: 0.6093 - accuracy: 0.8200\n",
      "Epoch 5/10\n",
      "7/7 [==============================] - 3s 482ms/step - loss: 0.5194 - accuracy: 0.8225\n",
      "Epoch 6/10\n",
      "7/7 [==============================] - 4s 511ms/step - loss: 0.4194 - accuracy: 0.8550\n",
      "Epoch 7/10\n",
      "7/7 [==============================] - 3s 450ms/step - loss: 0.3442 - accuracy: 0.8950\n",
      "Epoch 8/10\n",
      "7/7 [==============================] - 4s 524ms/step - loss: 0.2782 - accuracy: 0.9150\n",
      "Epoch 9/10\n",
      "7/7 [==============================] - 3s 499ms/step - loss: 0.2463 - accuracy: 0.9125\n",
      "Epoch 10/10\n",
      "7/7 [==============================] - 4s 499ms/step - loss: 0.2276 - accuracy: 0.9325\n",
      "2/2 [==============================] - 2s 299ms/step\n"
     ]
    },
    {
     "name": "stderr",
     "output_type": "stream",
     "text": [
      "C:\\Users\\footr\\anaconda3\\Lib\\site-packages\\scikeras\\wrappers.py:915: UserWarning: ``build_fn`` will be renamed to ``model`` in a future release, at which point use of ``build_fn`` will raise an Error instead.\n",
      "  X, y = self._initialize(X, y)\n"
     ]
    },
    {
     "name": "stdout",
     "output_type": "stream",
     "text": [
      "Epoch 1/10\n",
      "7/7 [==============================] - 8s 492ms/step - loss: 1.7039 - accuracy: 0.4625\n",
      "Epoch 2/10\n",
      "7/7 [==============================] - 4s 517ms/step - loss: 0.8956 - accuracy: 0.7025\n",
      "Epoch 3/10\n",
      "7/7 [==============================] - 4s 515ms/step - loss: 0.7071 - accuracy: 0.7850\n",
      "Epoch 4/10\n",
      "7/7 [==============================] - 4s 520ms/step - loss: 0.5887 - accuracy: 0.8125\n",
      "Epoch 5/10\n",
      "7/7 [==============================] - 4s 475ms/step - loss: 0.5455 - accuracy: 0.8300\n",
      "Epoch 6/10\n",
      "7/7 [==============================] - 4s 494ms/step - loss: 0.3717 - accuracy: 0.8675\n",
      "Epoch 7/10\n",
      "7/7 [==============================] - 4s 504ms/step - loss: 0.2713 - accuracy: 0.9050\n",
      "Epoch 8/10\n",
      "7/7 [==============================] - 3s 458ms/step - loss: 0.3095 - accuracy: 0.8825\n",
      "Epoch 9/10\n",
      "7/7 [==============================] - 3s 474ms/step - loss: 0.2925 - accuracy: 0.8975\n",
      "Epoch 10/10\n",
      "7/7 [==============================] - 3s 485ms/step - loss: 0.2580 - accuracy: 0.9125\n",
      "2/2 [==============================] - 2s 267ms/step\n"
     ]
    },
    {
     "name": "stderr",
     "output_type": "stream",
     "text": [
      "C:\\Users\\footr\\anaconda3\\Lib\\site-packages\\scikeras\\wrappers.py:915: UserWarning: ``build_fn`` will be renamed to ``model`` in a future release, at which point use of ``build_fn`` will raise an Error instead.\n",
      "  X, y = self._initialize(X, y)\n"
     ]
    },
    {
     "name": "stdout",
     "output_type": "stream",
     "text": [
      "Epoch 1/10\n",
      "7/7 [==============================] - 7s 466ms/step - loss: 2.2944 - accuracy: 0.3575\n",
      "Epoch 2/10\n",
      "7/7 [==============================] - 3s 496ms/step - loss: 1.0744 - accuracy: 0.6325\n",
      "Epoch 3/10\n",
      "7/7 [==============================] - 4s 486ms/step - loss: 0.7669 - accuracy: 0.7625\n",
      "Epoch 4/10\n",
      "7/7 [==============================] - 3s 486ms/step - loss: 0.6743 - accuracy: 0.7775\n",
      "Epoch 5/10\n",
      "7/7 [==============================] - 3s 476ms/step - loss: 0.5501 - accuracy: 0.8025\n",
      "Epoch 6/10\n",
      "7/7 [==============================] - 3s 450ms/step - loss: 0.4583 - accuracy: 0.8350\n",
      "Epoch 7/10\n",
      "7/7 [==============================] - 3s 476ms/step - loss: 0.4222 - accuracy: 0.8425\n",
      "Epoch 8/10\n",
      "7/7 [==============================] - 4s 519ms/step - loss: 0.3530 - accuracy: 0.8875\n",
      "Epoch 9/10\n",
      "7/7 [==============================] - 3s 483ms/step - loss: 0.3069 - accuracy: 0.8900\n",
      "Epoch 10/10\n",
      "7/7 [==============================] - 4s 492ms/step - loss: 0.2635 - accuracy: 0.8975\n",
      "2/2 [==============================] - 2s 284ms/step\n"
     ]
    },
    {
     "name": "stderr",
     "output_type": "stream",
     "text": [
      "C:\\Users\\footr\\anaconda3\\Lib\\site-packages\\scikeras\\wrappers.py:915: UserWarning: ``build_fn`` will be renamed to ``model`` in a future release, at which point use of ``build_fn`` will raise an Error instead.\n",
      "  X, y = self._initialize(X, y)\n"
     ]
    },
    {
     "name": "stdout",
     "output_type": "stream",
     "text": [
      "Epoch 1/10\n",
      "7/7 [==============================] - 7s 546ms/step - loss: 1.6975 - accuracy: 0.4325\n",
      "Epoch 2/10\n",
      "7/7 [==============================] - 4s 575ms/step - loss: 0.7863 - accuracy: 0.7600\n",
      "Epoch 3/10\n",
      "7/7 [==============================] - 4s 520ms/step - loss: 0.6099 - accuracy: 0.7975\n",
      "Epoch 4/10\n",
      "7/7 [==============================] - 3s 468ms/step - loss: 0.4982 - accuracy: 0.8400\n",
      "Epoch 5/10\n",
      "7/7 [==============================] - 4s 521ms/step - loss: 0.4311 - accuracy: 0.8375\n",
      "Epoch 6/10\n",
      "7/7 [==============================] - 3s 472ms/step - loss: 0.3905 - accuracy: 0.8725\n",
      "Epoch 7/10\n",
      "7/7 [==============================] - 4s 512ms/step - loss: 0.3031 - accuracy: 0.8975\n",
      "Epoch 8/10\n",
      "7/7 [==============================] - 4s 525ms/step - loss: 0.3066 - accuracy: 0.9125\n",
      "Epoch 9/10\n",
      "7/7 [==============================] - 3s 483ms/step - loss: 0.2376 - accuracy: 0.9250\n",
      "Epoch 10/10\n",
      "7/7 [==============================] - 4s 524ms/step - loss: 0.2598 - accuracy: 0.9275\n",
      "2/2 [==============================] - 2s 303ms/step\n"
     ]
    },
    {
     "name": "stderr",
     "output_type": "stream",
     "text": [
      "C:\\Users\\footr\\anaconda3\\Lib\\site-packages\\scikeras\\wrappers.py:915: UserWarning: ``build_fn`` will be renamed to ``model`` in a future release, at which point use of ``build_fn`` will raise an Error instead.\n",
      "  X, y = self._initialize(X, y)\n"
     ]
    },
    {
     "name": "stdout",
     "output_type": "stream",
     "text": [
      "Epoch 1/10\n",
      "7/7 [==============================] - 8s 575ms/step - loss: 1.9750 - accuracy: 0.4150\n",
      "Epoch 2/10\n",
      "7/7 [==============================] - 4s 570ms/step - loss: 0.8460 - accuracy: 0.7275\n",
      "Epoch 3/10\n",
      "7/7 [==============================] - 4s 627ms/step - loss: 0.6871 - accuracy: 0.7475\n",
      "Epoch 4/10\n",
      "7/7 [==============================] - 4s 485ms/step - loss: 0.5093 - accuracy: 0.8275\n",
      "Epoch 5/10\n",
      "7/7 [==============================] - 4s 532ms/step - loss: 0.4362 - accuracy: 0.8500\n",
      "Epoch 6/10\n",
      "7/7 [==============================] - 4s 549ms/step - loss: 0.3550 - accuracy: 0.8800\n",
      "Epoch 7/10\n",
      "7/7 [==============================] - 4s 556ms/step - loss: 0.3048 - accuracy: 0.8950\n",
      "Epoch 8/10\n",
      "7/7 [==============================] - 3s 485ms/step - loss: 0.2744 - accuracy: 0.9000\n",
      "Epoch 9/10\n",
      "7/7 [==============================] - 4s 506ms/step - loss: 0.2681 - accuracy: 0.8950\n",
      "Epoch 10/10\n",
      "7/7 [==============================] - 3s 435ms/step - loss: 0.2353 - accuracy: 0.9150\n",
      "2/2 [==============================] - 2s 271ms/step\n"
     ]
    },
    {
     "name": "stderr",
     "output_type": "stream",
     "text": [
      "C:\\Users\\footr\\anaconda3\\Lib\\site-packages\\scikeras\\wrappers.py:915: UserWarning: ``build_fn`` will be renamed to ``model`` in a future release, at which point use of ``build_fn`` will raise an Error instead.\n",
      "  X, y = self._initialize(X, y)\n"
     ]
    },
    {
     "name": "stdout",
     "output_type": "stream",
     "text": [
      "Epoch 1/10\n",
      "7/7 [==============================] - 7s 515ms/step - loss: 1.7159 - accuracy: 0.4675\n",
      "Epoch 2/10\n",
      "7/7 [==============================] - 3s 487ms/step - loss: 0.9104 - accuracy: 0.7250\n",
      "Epoch 3/10\n",
      "7/7 [==============================] - 3s 470ms/step - loss: 0.7689 - accuracy: 0.8025\n",
      "Epoch 4/10\n",
      "7/7 [==============================] - 4s 500ms/step - loss: 0.6054 - accuracy: 0.8325\n",
      "Epoch 5/10\n",
      "7/7 [==============================] - 4s 514ms/step - loss: 0.3615 - accuracy: 0.8800\n",
      "Epoch 6/10\n",
      "7/7 [==============================] - 3s 488ms/step - loss: 0.3443 - accuracy: 0.9125\n",
      "Epoch 7/10\n",
      "7/7 [==============================] - 4s 526ms/step - loss: 0.2909 - accuracy: 0.8925\n",
      "Epoch 8/10\n",
      "7/7 [==============================] - 4s 508ms/step - loss: 0.2528 - accuracy: 0.9100\n",
      "Epoch 9/10\n",
      "7/7 [==============================] - 4s 499ms/step - loss: 0.2407 - accuracy: 0.9150\n",
      "Epoch 10/10\n",
      "7/7 [==============================] - 4s 530ms/step - loss: 0.2416 - accuracy: 0.9350\n",
      "2/2 [==============================] - 2s 299ms/step\n"
     ]
    },
    {
     "name": "stderr",
     "output_type": "stream",
     "text": [
      "C:\\Users\\footr\\anaconda3\\Lib\\site-packages\\scikeras\\wrappers.py:915: UserWarning: ``build_fn`` will be renamed to ``model`` in a future release, at which point use of ``build_fn`` will raise an Error instead.\n",
      "  X, y = self._initialize(X, y)\n"
     ]
    },
    {
     "name": "stdout",
     "output_type": "stream",
     "text": [
      "Epoch 1/10\n",
      "7/7 [==============================] - 7s 552ms/step - loss: 1.9723 - accuracy: 0.4000\n",
      "Epoch 2/10\n",
      "7/7 [==============================] - 4s 554ms/step - loss: 1.4283 - accuracy: 0.6100\n",
      "Epoch 3/10\n",
      "7/7 [==============================] - 4s 560ms/step - loss: 0.7951 - accuracy: 0.7575\n",
      "Epoch 4/10\n",
      "7/7 [==============================] - 4s 535ms/step - loss: 0.7185 - accuracy: 0.8000\n",
      "Epoch 5/10\n",
      "7/7 [==============================] - 4s 478ms/step - loss: 0.5599 - accuracy: 0.8275\n",
      "Epoch 6/10\n",
      "7/7 [==============================] - 4s 519ms/step - loss: 0.4254 - accuracy: 0.8675\n",
      "Epoch 7/10\n",
      "7/7 [==============================] - 3s 459ms/step - loss: 0.3277 - accuracy: 0.8925\n",
      "Epoch 8/10\n",
      "7/7 [==============================] - 4s 535ms/step - loss: 0.3071 - accuracy: 0.9050\n",
      "Epoch 9/10\n",
      "7/7 [==============================] - 3s 435ms/step - loss: 0.2484 - accuracy: 0.9225\n",
      "Epoch 10/10\n",
      "7/7 [==============================] - 3s 443ms/step - loss: 0.2324 - accuracy: 0.9150\n",
      "2/2 [==============================] - 1s 237ms/step\n"
     ]
    },
    {
     "name": "stderr",
     "output_type": "stream",
     "text": [
      "C:\\Users\\footr\\anaconda3\\Lib\\site-packages\\scikeras\\wrappers.py:915: UserWarning: ``build_fn`` will be renamed to ``model`` in a future release, at which point use of ``build_fn`` will raise an Error instead.\n",
      "  X, y = self._initialize(X, y)\n"
     ]
    },
    {
     "name": "stdout",
     "output_type": "stream",
     "text": [
      "Epoch 1/10\n",
      "7/7 [==============================] - 8s 545ms/step - loss: 1.6061 - accuracy: 0.4800\n",
      "Epoch 2/10\n",
      "7/7 [==============================] - 4s 552ms/step - loss: 0.9391 - accuracy: 0.7125\n",
      "Epoch 3/10\n",
      "7/7 [==============================] - 4s 583ms/step - loss: 0.7089 - accuracy: 0.7725\n",
      "Epoch 4/10\n",
      "7/7 [==============================] - 4s 551ms/step - loss: 0.5256 - accuracy: 0.8275\n",
      "Epoch 5/10\n",
      "7/7 [==============================] - 4s 519ms/step - loss: 0.4554 - accuracy: 0.8525\n",
      "Epoch 6/10\n",
      "7/7 [==============================] - 3s 496ms/step - loss: 0.3910 - accuracy: 0.8525\n",
      "Epoch 7/10\n",
      "7/7 [==============================] - 4s 479ms/step - loss: 0.3667 - accuracy: 0.8825\n",
      "Epoch 8/10\n",
      "7/7 [==============================] - 4s 539ms/step - loss: 0.2716 - accuracy: 0.9175\n",
      "Epoch 9/10\n",
      "7/7 [==============================] - 3s 472ms/step - loss: 0.2886 - accuracy: 0.8950\n",
      "Epoch 10/10\n",
      "7/7 [==============================] - 3s 469ms/step - loss: 0.2118 - accuracy: 0.9200\n",
      "2/2 [==============================] - 2s 291ms/step\n"
     ]
    },
    {
     "name": "stderr",
     "output_type": "stream",
     "text": [
      "C:\\Users\\footr\\anaconda3\\Lib\\site-packages\\scikeras\\wrappers.py:915: UserWarning: ``build_fn`` will be renamed to ``model`` in a future release, at which point use of ``build_fn`` will raise an Error instead.\n",
      "  X, y = self._initialize(X, y)\n"
     ]
    },
    {
     "name": "stdout",
     "output_type": "stream",
     "text": [
      "Epoch 1/10\n",
      "7/7 [==============================] - 7s 496ms/step - loss: 1.5058 - accuracy: 0.4800\n",
      "Epoch 2/10\n",
      "7/7 [==============================] - 3s 481ms/step - loss: 0.8365 - accuracy: 0.7325\n",
      "Epoch 3/10\n",
      "7/7 [==============================] - 3s 473ms/step - loss: 0.5246 - accuracy: 0.8225\n",
      "Epoch 4/10\n",
      "7/7 [==============================] - 4s 534ms/step - loss: 0.5499 - accuracy: 0.8100\n",
      "Epoch 5/10\n",
      "7/7 [==============================] - 4s 527ms/step - loss: 0.3939 - accuracy: 0.8625\n",
      "Epoch 6/10\n",
      "7/7 [==============================] - 4s 482ms/step - loss: 0.2685 - accuracy: 0.9125\n",
      "Epoch 7/10\n",
      "7/7 [==============================] - 3s 439ms/step - loss: 0.2327 - accuracy: 0.9250\n",
      "Epoch 8/10\n",
      "7/7 [==============================] - 3s 474ms/step - loss: 0.2317 - accuracy: 0.9250\n",
      "Epoch 9/10\n",
      "7/7 [==============================] - 4s 487ms/step - loss: 0.1868 - accuracy: 0.9475\n",
      "Epoch 10/10\n",
      "7/7 [==============================] - 3s 453ms/step - loss: 0.2297 - accuracy: 0.9225\n",
      "2/2 [==============================] - 2s 277ms/step\n"
     ]
    },
    {
     "name": "stderr",
     "output_type": "stream",
     "text": [
      "C:\\Users\\footr\\anaconda3\\Lib\\site-packages\\scikeras\\wrappers.py:915: UserWarning: ``build_fn`` will be renamed to ``model`` in a future release, at which point use of ``build_fn`` will raise an Error instead.\n",
      "  X, y = self._initialize(X, y)\n"
     ]
    },
    {
     "name": "stdout",
     "output_type": "stream",
     "text": [
      "Epoch 1/10\n",
      "7/7 [==============================] - 8s 552ms/step - loss: 1.5778 - accuracy: 0.4650\n",
      "Epoch 2/10\n",
      "7/7 [==============================] - 4s 486ms/step - loss: 0.9247 - accuracy: 0.7075\n",
      "Epoch 3/10\n",
      "7/7 [==============================] - 4s 491ms/step - loss: 0.7303 - accuracy: 0.7725\n",
      "Epoch 4/10\n",
      "7/7 [==============================] - 3s 432ms/step - loss: 0.6103 - accuracy: 0.8150\n",
      "Epoch 5/10\n",
      "7/7 [==============================] - 3s 480ms/step - loss: 0.3560 - accuracy: 0.8650\n",
      "Epoch 6/10\n",
      "7/7 [==============================] - 4s 528ms/step - loss: 0.3280 - accuracy: 0.8650\n",
      "Epoch 7/10\n",
      "7/7 [==============================] - 4s 499ms/step - loss: 0.3490 - accuracy: 0.8700\n",
      "Epoch 8/10\n",
      "7/7 [==============================] - 4s 492ms/step - loss: 0.2981 - accuracy: 0.9075\n",
      "Epoch 9/10\n",
      "7/7 [==============================] - 3s 472ms/step - loss: 0.2825 - accuracy: 0.9225\n",
      "Epoch 10/10\n",
      "7/7 [==============================] - 3s 456ms/step - loss: 0.3226 - accuracy: 0.8900\n",
      "2/2 [==============================] - 1s 261ms/step\n"
     ]
    },
    {
     "name": "stderr",
     "output_type": "stream",
     "text": [
      "C:\\Users\\footr\\anaconda3\\Lib\\site-packages\\scikeras\\wrappers.py:915: UserWarning: ``build_fn`` will be renamed to ``model`` in a future release, at which point use of ``build_fn`` will raise an Error instead.\n",
      "  X, y = self._initialize(X, y)\n"
     ]
    },
    {
     "name": "stdout",
     "output_type": "stream",
     "text": [
      "Epoch 1/10\n",
      "7/7 [==============================] - 7s 462ms/step - loss: 1.8838 - accuracy: 0.4750\n",
      "Epoch 2/10\n",
      "7/7 [==============================] - 4s 560ms/step - loss: 0.8948 - accuracy: 0.7250\n",
      "Epoch 3/10\n",
      "7/7 [==============================] - 4s 483ms/step - loss: 0.7908 - accuracy: 0.7575\n",
      "Epoch 4/10\n",
      "7/7 [==============================] - 4s 501ms/step - loss: 0.5610 - accuracy: 0.8250\n",
      "Epoch 5/10\n",
      "7/7 [==============================] - 3s 495ms/step - loss: 0.5057 - accuracy: 0.8325\n",
      "Epoch 6/10\n",
      "7/7 [==============================] - 3s 477ms/step - loss: 0.4419 - accuracy: 0.8575\n",
      "Epoch 7/10\n",
      "7/7 [==============================] - 4s 497ms/step - loss: 0.2972 - accuracy: 0.9050\n",
      "Epoch 8/10\n",
      "7/7 [==============================] - 4s 542ms/step - loss: 0.3046 - accuracy: 0.8825\n",
      "Epoch 9/10\n",
      "7/7 [==============================] - 4s 510ms/step - loss: 0.2940 - accuracy: 0.9150\n",
      "Epoch 10/10\n",
      "7/7 [==============================] - 3s 471ms/step - loss: 0.2699 - accuracy: 0.9100\n",
      "2/2 [==============================] - 3s 276ms/step\n"
     ]
    },
    {
     "name": "stderr",
     "output_type": "stream",
     "text": [
      "C:\\Users\\footr\\anaconda3\\Lib\\site-packages\\scikeras\\wrappers.py:915: UserWarning: ``build_fn`` will be renamed to ``model`` in a future release, at which point use of ``build_fn`` will raise an Error instead.\n",
      "  X, y = self._initialize(X, y)\n"
     ]
    },
    {
     "name": "stdout",
     "output_type": "stream",
     "text": [
      "Epoch 1/10\n",
      "7/7 [==============================] - 9s 651ms/step - loss: 2.3163 - accuracy: 0.4600\n",
      "Epoch 2/10\n",
      "7/7 [==============================] - 5s 608ms/step - loss: 0.9989 - accuracy: 0.7225\n",
      "Epoch 3/10\n",
      "7/7 [==============================] - 4s 605ms/step - loss: 0.5932 - accuracy: 0.8250\n",
      "Epoch 4/10\n",
      "7/7 [==============================] - 4s 563ms/step - loss: 0.5498 - accuracy: 0.8350\n",
      "Epoch 5/10\n",
      "7/7 [==============================] - 4s 593ms/step - loss: 0.3720 - accuracy: 0.8800\n",
      "Epoch 6/10\n",
      "7/7 [==============================] - 5s 693ms/step - loss: 0.3052 - accuracy: 0.8850\n",
      "Epoch 7/10\n",
      "7/7 [==============================] - 4s 597ms/step - loss: 0.3573 - accuracy: 0.8775\n",
      "Epoch 8/10\n",
      "7/7 [==============================] - 4s 553ms/step - loss: 0.3106 - accuracy: 0.9075\n",
      "Epoch 9/10\n",
      "7/7 [==============================] - 4s 583ms/step - loss: 0.2327 - accuracy: 0.9300\n",
      "Epoch 10/10\n",
      "7/7 [==============================] - 4s 526ms/step - loss: 0.1762 - accuracy: 0.9375\n",
      "2/2 [==============================] - 2s 326ms/step\n"
     ]
    },
    {
     "name": "stderr",
     "output_type": "stream",
     "text": [
      "C:\\Users\\footr\\anaconda3\\Lib\\site-packages\\scikeras\\wrappers.py:915: UserWarning: ``build_fn`` will be renamed to ``model`` in a future release, at which point use of ``build_fn`` will raise an Error instead.\n",
      "  X, y = self._initialize(X, y)\n"
     ]
    },
    {
     "name": "stdout",
     "output_type": "stream",
     "text": [
      "Epoch 1/10\n",
      "7/7 [==============================] - 8s 575ms/step - loss: 1.7340 - accuracy: 0.4975\n",
      "Epoch 2/10\n",
      "7/7 [==============================] - 5s 676ms/step - loss: 1.1585 - accuracy: 0.7450\n",
      "Epoch 3/10\n",
      "7/7 [==============================] - 4s 568ms/step - loss: 0.7595 - accuracy: 0.8325\n",
      "Epoch 4/10\n",
      "7/7 [==============================] - 4s 628ms/step - loss: 0.6302 - accuracy: 0.8225\n",
      "Epoch 5/10\n",
      "7/7 [==============================] - 4s 542ms/step - loss: 0.4485 - accuracy: 0.8675\n",
      "Epoch 6/10\n",
      "7/7 [==============================] - 4s 591ms/step - loss: 0.3448 - accuracy: 0.9000\n",
      "Epoch 7/10\n",
      "7/7 [==============================] - 4s 532ms/step - loss: 0.4612 - accuracy: 0.8800\n",
      "Epoch 8/10\n",
      "7/7 [==============================] - 4s 557ms/step - loss: 0.3941 - accuracy: 0.8925\n",
      "Epoch 9/10\n",
      "7/7 [==============================] - 4s 597ms/step - loss: 0.2760 - accuracy: 0.9175\n",
      "Epoch 10/10\n",
      "7/7 [==============================] - 4s 571ms/step - loss: 0.2427 - accuracy: 0.9350\n",
      "2/2 [==============================] - 2s 299ms/step\n"
     ]
    },
    {
     "name": "stderr",
     "output_type": "stream",
     "text": [
      "C:\\Users\\footr\\anaconda3\\Lib\\site-packages\\scikeras\\wrappers.py:915: UserWarning: ``build_fn`` will be renamed to ``model`` in a future release, at which point use of ``build_fn`` will raise an Error instead.\n",
      "  X, y = self._initialize(X, y)\n"
     ]
    },
    {
     "name": "stdout",
     "output_type": "stream",
     "text": [
      "Epoch 1/10\n",
      "7/7 [==============================] - 8s 619ms/step - loss: 2.1288 - accuracy: 0.5000\n",
      "Epoch 2/10\n",
      "7/7 [==============================] - 4s 634ms/step - loss: 1.1292 - accuracy: 0.7475\n",
      "Epoch 3/10\n",
      "7/7 [==============================] - 5s 635ms/step - loss: 0.7646 - accuracy: 0.8125\n",
      "Epoch 4/10\n",
      "7/7 [==============================] - 4s 566ms/step - loss: 0.5667 - accuracy: 0.8200\n",
      "Epoch 5/10\n",
      "7/7 [==============================] - 4s 607ms/step - loss: 0.3587 - accuracy: 0.8750\n",
      "Epoch 6/10\n",
      "7/7 [==============================] - 4s 595ms/step - loss: 0.3322 - accuracy: 0.9025\n",
      "Epoch 7/10\n",
      "7/7 [==============================] - 4s 618ms/step - loss: 0.2566 - accuracy: 0.9250\n",
      "Epoch 8/10\n",
      "7/7 [==============================] - 4s 524ms/step - loss: 0.1961 - accuracy: 0.9325\n",
      "Epoch 9/10\n",
      "7/7 [==============================] - 4s 575ms/step - loss: 0.1529 - accuracy: 0.9600\n",
      "Epoch 10/10\n",
      "7/7 [==============================] - 4s 522ms/step - loss: 0.1345 - accuracy: 0.9575\n",
      "2/2 [==============================] - 2s 311ms/step\n"
     ]
    },
    {
     "name": "stderr",
     "output_type": "stream",
     "text": [
      "C:\\Users\\footr\\anaconda3\\Lib\\site-packages\\scikeras\\wrappers.py:915: UserWarning: ``build_fn`` will be renamed to ``model`` in a future release, at which point use of ``build_fn`` will raise an Error instead.\n",
      "  X, y = self._initialize(X, y)\n"
     ]
    },
    {
     "name": "stdout",
     "output_type": "stream",
     "text": [
      "Epoch 1/10\n",
      "7/7 [==============================] - 7s 536ms/step - loss: 2.4728 - accuracy: 0.4300\n",
      "Epoch 2/10\n",
      "7/7 [==============================] - 4s 571ms/step - loss: 0.9735 - accuracy: 0.7425\n",
      "Epoch 3/10\n",
      "7/7 [==============================] - 4s 629ms/step - loss: 0.7928 - accuracy: 0.7625\n",
      "Epoch 4/10\n",
      "7/7 [==============================] - 4s 566ms/step - loss: 0.5667 - accuracy: 0.8225\n",
      "Epoch 5/10\n",
      "7/7 [==============================] - 4s 562ms/step - loss: 0.4029 - accuracy: 0.8575\n",
      "Epoch 6/10\n",
      "7/7 [==============================] - 4s 562ms/step - loss: 0.4074 - accuracy: 0.8650\n",
      "Epoch 7/10\n",
      "7/7 [==============================] - 4s 602ms/step - loss: 0.2718 - accuracy: 0.9075\n",
      "Epoch 8/10\n",
      "7/7 [==============================] - 4s 578ms/step - loss: 0.2143 - accuracy: 0.9125\n",
      "Epoch 9/10\n",
      "7/7 [==============================] - 4s 495ms/step - loss: 0.1923 - accuracy: 0.9150\n",
      "Epoch 10/10\n",
      "7/7 [==============================] - 3s 464ms/step - loss: 0.1591 - accuracy: 0.9550\n",
      "2/2 [==============================] - 2s 282ms/step\n"
     ]
    },
    {
     "name": "stderr",
     "output_type": "stream",
     "text": [
      "C:\\Users\\footr\\anaconda3\\Lib\\site-packages\\scikeras\\wrappers.py:915: UserWarning: ``build_fn`` will be renamed to ``model`` in a future release, at which point use of ``build_fn`` will raise an Error instead.\n",
      "  X, y = self._initialize(X, y)\n"
     ]
    },
    {
     "name": "stdout",
     "output_type": "stream",
     "text": [
      "Epoch 1/10\n",
      "7/7 [==============================] - 8s 620ms/step - loss: 2.1322 - accuracy: 0.4675\n",
      "Epoch 2/10\n",
      "7/7 [==============================] - 4s 562ms/step - loss: 0.9370 - accuracy: 0.7150\n",
      "Epoch 3/10\n",
      "7/7 [==============================] - 4s 512ms/step - loss: 0.6917 - accuracy: 0.8000\n",
      "Epoch 4/10\n",
      "7/7 [==============================] - 4s 562ms/step - loss: 0.4950 - accuracy: 0.8425\n",
      "Epoch 5/10\n",
      "7/7 [==============================] - 4s 504ms/step - loss: 0.4790 - accuracy: 0.8725\n",
      "Epoch 6/10\n",
      "7/7 [==============================] - 4s 528ms/step - loss: 0.3456 - accuracy: 0.8825\n",
      "Epoch 7/10\n",
      "7/7 [==============================] - 3s 482ms/step - loss: 0.3049 - accuracy: 0.9025\n",
      "Epoch 8/10\n",
      "7/7 [==============================] - 3s 480ms/step - loss: 0.2163 - accuracy: 0.9525\n",
      "Epoch 9/10\n",
      "7/7 [==============================] - 4s 559ms/step - loss: 0.2610 - accuracy: 0.9225\n",
      "Epoch 10/10\n",
      "7/7 [==============================] - 4s 542ms/step - loss: 0.2088 - accuracy: 0.9400\n",
      "2/2 [==============================] - 2s 285ms/step\n"
     ]
    },
    {
     "name": "stderr",
     "output_type": "stream",
     "text": [
      "C:\\Users\\footr\\anaconda3\\Lib\\site-packages\\scikeras\\wrappers.py:915: UserWarning: ``build_fn`` will be renamed to ``model`` in a future release, at which point use of ``build_fn`` will raise an Error instead.\n",
      "  X, y = self._initialize(X, y)\n"
     ]
    },
    {
     "name": "stdout",
     "output_type": "stream",
     "text": [
      "Epoch 1/10\n",
      "7/7 [==============================] - 8s 647ms/step - loss: 2.4515 - accuracy: 0.3925\n",
      "Epoch 2/10\n",
      "7/7 [==============================] - 5s 629ms/step - loss: 0.9427 - accuracy: 0.7025\n",
      "Epoch 3/10\n",
      "7/7 [==============================] - 5s 682ms/step - loss: 0.6490 - accuracy: 0.7900\n",
      "Epoch 4/10\n",
      "7/7 [==============================] - 5s 606ms/step - loss: 0.4981 - accuracy: 0.8250\n",
      "Epoch 5/10\n",
      "7/7 [==============================] - 4s 560ms/step - loss: 0.3441 - accuracy: 0.8825\n",
      "Epoch 6/10\n",
      "7/7 [==============================] - 4s 565ms/step - loss: 0.2965 - accuracy: 0.9150\n",
      "Epoch 7/10\n",
      "7/7 [==============================] - 4s 552ms/step - loss: 0.2421 - accuracy: 0.9200\n",
      "Epoch 8/10\n",
      "7/7 [==============================] - 4s 531ms/step - loss: 0.2860 - accuracy: 0.9250\n",
      "Epoch 9/10\n",
      "7/7 [==============================] - 4s 527ms/step - loss: 0.1538 - accuracy: 0.9525\n",
      "Epoch 10/10\n",
      "7/7 [==============================] - 4s 555ms/step - loss: 0.1406 - accuracy: 0.9525\n",
      "2/2 [==============================] - 2s 291ms/step\n"
     ]
    },
    {
     "name": "stderr",
     "output_type": "stream",
     "text": [
      "C:\\Users\\footr\\anaconda3\\Lib\\site-packages\\scikeras\\wrappers.py:915: UserWarning: ``build_fn`` will be renamed to ``model`` in a future release, at which point use of ``build_fn`` will raise an Error instead.\n",
      "  X, y = self._initialize(X, y)\n"
     ]
    },
    {
     "name": "stdout",
     "output_type": "stream",
     "text": [
      "Epoch 1/10\n",
      "7/7 [==============================] - 8s 511ms/step - loss: 2.5871 - accuracy: 0.4300\n",
      "Epoch 2/10\n",
      "7/7 [==============================] - 4s 508ms/step - loss: 1.1934 - accuracy: 0.7225\n",
      "Epoch 3/10\n",
      "7/7 [==============================] - 4s 503ms/step - loss: 0.8973 - accuracy: 0.7425\n",
      "Epoch 4/10\n",
      "7/7 [==============================] - 4s 567ms/step - loss: 0.4901 - accuracy: 0.8625\n",
      "Epoch 5/10\n",
      "7/7 [==============================] - 4s 530ms/step - loss: 0.5134 - accuracy: 0.8675\n",
      "Epoch 6/10\n",
      "7/7 [==============================] - 4s 558ms/step - loss: 0.3302 - accuracy: 0.8925\n",
      "Epoch 7/10\n",
      "7/7 [==============================] - 4s 514ms/step - loss: 0.3130 - accuracy: 0.8950\n",
      "Epoch 8/10\n",
      "7/7 [==============================] - 4s 522ms/step - loss: 0.3075 - accuracy: 0.8975\n",
      "Epoch 9/10\n",
      "7/7 [==============================] - 4s 592ms/step - loss: 0.1871 - accuracy: 0.9375\n",
      "Epoch 10/10\n",
      "7/7 [==============================] - 4s 524ms/step - loss: 0.2347 - accuracy: 0.9350\n",
      "2/2 [==============================] - 2s 319ms/step\n"
     ]
    },
    {
     "name": "stderr",
     "output_type": "stream",
     "text": [
      "C:\\Users\\footr\\anaconda3\\Lib\\site-packages\\scikeras\\wrappers.py:915: UserWarning: ``build_fn`` will be renamed to ``model`` in a future release, at which point use of ``build_fn`` will raise an Error instead.\n",
      "  X, y = self._initialize(X, y)\n"
     ]
    },
    {
     "name": "stdout",
     "output_type": "stream",
     "text": [
      "Epoch 1/10\n",
      "7/7 [==============================] - 7s 551ms/step - loss: 2.0395 - accuracy: 0.5050\n",
      "Epoch 2/10\n",
      "7/7 [==============================] - 4s 564ms/step - loss: 0.9215 - accuracy: 0.7750\n",
      "Epoch 3/10\n",
      "7/7 [==============================] - 4s 559ms/step - loss: 0.6539 - accuracy: 0.8275\n",
      "Epoch 4/10\n",
      "7/7 [==============================] - 4s 557ms/step - loss: 0.3627 - accuracy: 0.8775\n",
      "Epoch 5/10\n",
      "7/7 [==============================] - 4s 550ms/step - loss: 0.3513 - accuracy: 0.8950\n",
      "Epoch 6/10\n",
      "7/7 [==============================] - 4s 579ms/step - loss: 0.2412 - accuracy: 0.9125\n",
      "Epoch 7/10\n",
      "7/7 [==============================] - 4s 535ms/step - loss: 0.1889 - accuracy: 0.9525\n",
      "Epoch 8/10\n",
      "7/7 [==============================] - 4s 529ms/step - loss: 0.2276 - accuracy: 0.9275\n",
      "Epoch 9/10\n",
      "7/7 [==============================] - 4s 589ms/step - loss: 0.2900 - accuracy: 0.9225\n",
      "Epoch 10/10\n",
      "7/7 [==============================] - 4s 564ms/step - loss: 0.1736 - accuracy: 0.9575\n",
      "2/2 [==============================] - 2s 290ms/step\n"
     ]
    },
    {
     "name": "stderr",
     "output_type": "stream",
     "text": [
      "C:\\Users\\footr\\anaconda3\\Lib\\site-packages\\scikeras\\wrappers.py:915: UserWarning: ``build_fn`` will be renamed to ``model`` in a future release, at which point use of ``build_fn`` will raise an Error instead.\n",
      "  X, y = self._initialize(X, y)\n"
     ]
    },
    {
     "name": "stdout",
     "output_type": "stream",
     "text": [
      "Epoch 1/10\n",
      "7/7 [==============================] - 8s 700ms/step - loss: 2.3489 - accuracy: 0.4225\n",
      "Epoch 2/10\n",
      "7/7 [==============================] - 5s 664ms/step - loss: 1.2495 - accuracy: 0.6750\n",
      "Epoch 3/10\n",
      "7/7 [==============================] - 5s 626ms/step - loss: 0.7869 - accuracy: 0.7500\n",
      "Epoch 4/10\n",
      "7/7 [==============================] - 4s 568ms/step - loss: 0.5040 - accuracy: 0.8200\n",
      "Epoch 5/10\n",
      "7/7 [==============================] - 4s 608ms/step - loss: 0.3569 - accuracy: 0.8800\n",
      "Epoch 6/10\n",
      "7/7 [==============================] - 4s 500ms/step - loss: 0.3864 - accuracy: 0.8825\n",
      "Epoch 7/10\n",
      "7/7 [==============================] - 4s 511ms/step - loss: 0.2225 - accuracy: 0.9175\n",
      "Epoch 8/10\n",
      "7/7 [==============================] - 5s 615ms/step - loss: 0.2094 - accuracy: 0.9300\n",
      "Epoch 9/10\n",
      "7/7 [==============================] - 4s 656ms/step - loss: 0.2437 - accuracy: 0.9175\n",
      "Epoch 10/10\n",
      "7/7 [==============================] - 4s 570ms/step - loss: 0.1659 - accuracy: 0.9550\n",
      "2/2 [==============================] - 2s 304ms/step\n"
     ]
    },
    {
     "name": "stderr",
     "output_type": "stream",
     "text": [
      "C:\\Users\\footr\\anaconda3\\Lib\\site-packages\\scikeras\\wrappers.py:915: UserWarning: ``build_fn`` will be renamed to ``model`` in a future release, at which point use of ``build_fn`` will raise an Error instead.\n",
      "  X, y = self._initialize(X, y)\n"
     ]
    },
    {
     "name": "stdout",
     "output_type": "stream",
     "text": [
      "Epoch 1/10\n",
      "7/7 [==============================] - 8s 658ms/step - loss: 2.1788 - accuracy: 0.4675\n",
      "Epoch 2/10\n",
      "7/7 [==============================] - 4s 566ms/step - loss: 1.0918 - accuracy: 0.7150\n",
      "Epoch 3/10\n",
      "7/7 [==============================] - 4s 534ms/step - loss: 0.7131 - accuracy: 0.8200\n",
      "Epoch 4/10\n",
      "7/7 [==============================] - 4s 530ms/step - loss: 0.5063 - accuracy: 0.8425\n",
      "Epoch 5/10\n",
      "7/7 [==============================] - 4s 506ms/step - loss: 0.4686 - accuracy: 0.8725\n",
      "Epoch 6/10\n",
      "7/7 [==============================] - 4s 515ms/step - loss: 0.4297 - accuracy: 0.8675\n",
      "Epoch 7/10\n",
      "7/7 [==============================] - 3s 484ms/step - loss: 0.2787 - accuracy: 0.9175\n",
      "Epoch 8/10\n",
      "7/7 [==============================] - 3s 476ms/step - loss: 0.2635 - accuracy: 0.9100\n",
      "Epoch 9/10\n",
      "7/7 [==============================] - 4s 524ms/step - loss: 0.2423 - accuracy: 0.9150\n",
      "Epoch 10/10\n",
      "7/7 [==============================] - 4s 530ms/step - loss: 0.2635 - accuracy: 0.9325\n",
      "2/2 [==============================] - 2s 304ms/step\n"
     ]
    },
    {
     "name": "stderr",
     "output_type": "stream",
     "text": [
      "C:\\Users\\footr\\anaconda3\\Lib\\site-packages\\scikeras\\wrappers.py:915: UserWarning: ``build_fn`` will be renamed to ``model`` in a future release, at which point use of ``build_fn`` will raise an Error instead.\n",
      "  X, y = self._initialize(X, y)\n"
     ]
    },
    {
     "name": "stdout",
     "output_type": "stream",
     "text": [
      "Epoch 1/10\n",
      "7/7 [==============================] - 8s 641ms/step - loss: 2.0088 - accuracy: 0.4725\n",
      "Epoch 2/10\n",
      "7/7 [==============================] - 5s 685ms/step - loss: 0.9030 - accuracy: 0.7650\n",
      "Epoch 3/10\n",
      "7/7 [==============================] - 4s 604ms/step - loss: 0.5180 - accuracy: 0.8350\n",
      "Epoch 4/10\n",
      "7/7 [==============================] - 5s 680ms/step - loss: 0.4772 - accuracy: 0.8700\n",
      "Epoch 5/10\n",
      "7/7 [==============================] - 4s 606ms/step - loss: 0.3757 - accuracy: 0.8825\n",
      "Epoch 6/10\n",
      "7/7 [==============================] - 4s 612ms/step - loss: 0.2979 - accuracy: 0.9050\n",
      "Epoch 7/10\n",
      "7/7 [==============================] - 4s 614ms/step - loss: 0.2529 - accuracy: 0.9150\n",
      "Epoch 8/10\n",
      "7/7 [==============================] - 4s 509ms/step - loss: 0.1523 - accuracy: 0.9525\n",
      "Epoch 9/10\n",
      "7/7 [==============================] - 4s 526ms/step - loss: 0.1547 - accuracy: 0.9575\n",
      "Epoch 10/10\n",
      "7/7 [==============================] - 3s 473ms/step - loss: 0.1981 - accuracy: 0.9575\n",
      "2/2 [==============================] - 2s 287ms/step\n"
     ]
    },
    {
     "name": "stderr",
     "output_type": "stream",
     "text": [
      "C:\\Users\\footr\\anaconda3\\Lib\\site-packages\\scikeras\\wrappers.py:915: UserWarning: ``build_fn`` will be renamed to ``model`` in a future release, at which point use of ``build_fn`` will raise an Error instead.\n",
      "  X, y = self._initialize(X, y)\n"
     ]
    },
    {
     "name": "stdout",
     "output_type": "stream",
     "text": [
      "Epoch 1/10\n",
      "7/7 [==============================] - 8s 628ms/step - loss: 2.3375 - accuracy: 0.4350\n",
      "Epoch 2/10\n",
      "7/7 [==============================] - 4s 596ms/step - loss: 0.9891 - accuracy: 0.7300\n",
      "Epoch 3/10\n",
      "7/7 [==============================] - 4s 571ms/step - loss: 0.8588 - accuracy: 0.7675\n",
      "Epoch 4/10\n",
      "7/7 [==============================] - 4s 535ms/step - loss: 0.6085 - accuracy: 0.8175\n",
      "Epoch 5/10\n",
      "7/7 [==============================] - 4s 573ms/step - loss: 0.4315 - accuracy: 0.8575\n",
      "Epoch 6/10\n",
      "7/7 [==============================] - 4s 555ms/step - loss: 0.3613 - accuracy: 0.8750\n",
      "Epoch 7/10\n",
      "7/7 [==============================] - 4s 533ms/step - loss: 0.2803 - accuracy: 0.9125\n",
      "Epoch 8/10\n",
      "7/7 [==============================] - 4s 550ms/step - loss: 0.2687 - accuracy: 0.9275\n",
      "Epoch 9/10\n",
      "7/7 [==============================] - 4s 510ms/step - loss: 0.2379 - accuracy: 0.9350\n",
      "Epoch 10/10\n",
      "7/7 [==============================] - 4s 542ms/step - loss: 0.1550 - accuracy: 0.9625\n",
      "2/2 [==============================] - 2s 314ms/step\n"
     ]
    },
    {
     "name": "stderr",
     "output_type": "stream",
     "text": [
      "C:\\Users\\footr\\anaconda3\\Lib\\site-packages\\scikeras\\wrappers.py:915: UserWarning: ``build_fn`` will be renamed to ``model`` in a future release, at which point use of ``build_fn`` will raise an Error instead.\n",
      "  X, y = self._initialize(X, y)\n"
     ]
    },
    {
     "name": "stdout",
     "output_type": "stream",
     "text": [
      "Epoch 1/10\n",
      "7/7 [==============================] - 7s 561ms/step - loss: 1.6405 - accuracy: 0.5275\n",
      "Epoch 2/10\n",
      "7/7 [==============================] - 5s 620ms/step - loss: 1.2345 - accuracy: 0.7500\n",
      "Epoch 3/10\n",
      "7/7 [==============================] - 4s 618ms/step - loss: 0.8156 - accuracy: 0.8150\n",
      "Epoch 4/10\n",
      "7/7 [==============================] - 4s 571ms/step - loss: 0.5013 - accuracy: 0.8700\n",
      "Epoch 5/10\n",
      "7/7 [==============================] - 4s 619ms/step - loss: 0.3891 - accuracy: 0.8825\n",
      "Epoch 6/10\n",
      "7/7 [==============================] - 4s 561ms/step - loss: 0.3031 - accuracy: 0.8950\n",
      "Epoch 7/10\n",
      "7/7 [==============================] - 4s 589ms/step - loss: 0.1940 - accuracy: 0.9400\n",
      "Epoch 8/10\n",
      "7/7 [==============================] - 4s 537ms/step - loss: 0.2287 - accuracy: 0.9375\n",
      "Epoch 9/10\n",
      "7/7 [==============================] - 4s 510ms/step - loss: 0.1409 - accuracy: 0.9575\n",
      "Epoch 10/10\n",
      "7/7 [==============================] - 4s 590ms/step - loss: 0.2526 - accuracy: 0.9475\n",
      "2/2 [==============================] - 2s 298ms/step\n"
     ]
    },
    {
     "name": "stderr",
     "output_type": "stream",
     "text": [
      "C:\\Users\\footr\\anaconda3\\Lib\\site-packages\\scikeras\\wrappers.py:915: UserWarning: ``build_fn`` will be renamed to ``model`` in a future release, at which point use of ``build_fn`` will raise an Error instead.\n",
      "  X, y = self._initialize(X, y)\n"
     ]
    },
    {
     "name": "stdout",
     "output_type": "stream",
     "text": [
      "Epoch 1/10\n",
      "7/7 [==============================] - 8s 623ms/step - loss: 1.7247 - accuracy: 0.5150\n",
      "Epoch 2/10\n",
      "7/7 [==============================] - 4s 620ms/step - loss: 0.9300 - accuracy: 0.7600\n",
      "Epoch 3/10\n",
      "7/7 [==============================] - 4s 593ms/step - loss: 0.6502 - accuracy: 0.8000\n",
      "Epoch 4/10\n",
      "7/7 [==============================] - 4s 575ms/step - loss: 0.5061 - accuracy: 0.8225\n",
      "Epoch 5/10\n",
      "7/7 [==============================] - 4s 577ms/step - loss: 0.3993 - accuracy: 0.8975\n",
      "Epoch 6/10\n",
      "7/7 [==============================] - 4s 502ms/step - loss: 0.3474 - accuracy: 0.9200\n",
      "Epoch 7/10\n",
      "7/7 [==============================] - 4s 528ms/step - loss: 0.2751 - accuracy: 0.9200\n",
      "Epoch 8/10\n",
      "7/7 [==============================] - 4s 539ms/step - loss: 0.2498 - accuracy: 0.9150\n",
      "Epoch 9/10\n",
      "7/7 [==============================] - 4s 543ms/step - loss: 0.1358 - accuracy: 0.9550\n",
      "Epoch 10/10\n",
      "7/7 [==============================] - 4s 517ms/step - loss: 0.1330 - accuracy: 0.9550\n",
      "2/2 [==============================] - 3s 270ms/step\n"
     ]
    },
    {
     "name": "stderr",
     "output_type": "stream",
     "text": [
      "C:\\Users\\footr\\anaconda3\\Lib\\site-packages\\scikeras\\wrappers.py:915: UserWarning: ``build_fn`` will be renamed to ``model`` in a future release, at which point use of ``build_fn`` will raise an Error instead.\n",
      "  X, y = self._initialize(X, y)\n"
     ]
    },
    {
     "name": "stdout",
     "output_type": "stream",
     "text": [
      "Epoch 1/10\n",
      "7/7 [==============================] - 8s 615ms/step - loss: 2.3862 - accuracy: 0.4200\n",
      "Epoch 2/10\n",
      "7/7 [==============================] - 4s 506ms/step - loss: 1.2455 - accuracy: 0.6825\n",
      "Epoch 3/10\n",
      "7/7 [==============================] - 4s 548ms/step - loss: 0.8560 - accuracy: 0.7750\n",
      "Epoch 4/10\n",
      "7/7 [==============================] - 4s 555ms/step - loss: 0.4971 - accuracy: 0.8600\n",
      "Epoch 5/10\n",
      "7/7 [==============================] - 4s 622ms/step - loss: 0.3698 - accuracy: 0.8850\n",
      "Epoch 6/10\n",
      "7/7 [==============================] - 4s 542ms/step - loss: 0.3794 - accuracy: 0.8675\n",
      "Epoch 7/10\n",
      "7/7 [==============================] - 4s 502ms/step - loss: 0.2745 - accuracy: 0.9175\n",
      "Epoch 8/10\n",
      "7/7 [==============================] - 4s 543ms/step - loss: 0.2113 - accuracy: 0.9325\n",
      "Epoch 9/10\n",
      "7/7 [==============================] - 4s 591ms/step - loss: 0.1954 - accuracy: 0.9375\n",
      "Epoch 10/10\n",
      "7/7 [==============================] - 4s 523ms/step - loss: 0.1763 - accuracy: 0.9450\n",
      "2/2 [==============================] - 2s 308ms/step\n"
     ]
    },
    {
     "name": "stderr",
     "output_type": "stream",
     "text": [
      "C:\\Users\\footr\\anaconda3\\Lib\\site-packages\\scikeras\\wrappers.py:915: UserWarning: ``build_fn`` will be renamed to ``model`` in a future release, at which point use of ``build_fn`` will raise an Error instead.\n",
      "  X, y = self._initialize(X, y)\n"
     ]
    },
    {
     "name": "stdout",
     "output_type": "stream",
     "text": [
      "Epoch 1/10\n",
      "8/8 [==============================] - 9s 688ms/step - loss: 2.2421 - accuracy: 0.4760\n",
      "Epoch 2/10\n",
      "8/8 [==============================] - 5s 671ms/step - loss: 0.8671 - accuracy: 0.7300\n",
      "Epoch 3/10\n",
      "8/8 [==============================] - 5s 672ms/step - loss: 0.5381 - accuracy: 0.8300\n",
      "Epoch 4/10\n",
      "8/8 [==============================] - 5s 586ms/step - loss: 0.4220 - accuracy: 0.8580\n",
      "Epoch 5/10\n",
      "8/8 [==============================] - 5s 600ms/step - loss: 0.2837 - accuracy: 0.9040\n",
      "Epoch 6/10\n",
      "8/8 [==============================] - 5s 620ms/step - loss: 0.2255 - accuracy: 0.9260\n",
      "Epoch 7/10\n",
      "8/8 [==============================] - 5s 631ms/step - loss: 0.2234 - accuracy: 0.9380\n",
      "Epoch 8/10\n",
      "8/8 [==============================] - 6s 698ms/step - loss: 0.1675 - accuracy: 0.9500\n",
      "Epoch 9/10\n",
      "8/8 [==============================] - 5s 645ms/step - loss: 0.1578 - accuracy: 0.9500\n",
      "Epoch 10/10\n",
      "8/8 [==============================] - 5s 648ms/step - loss: 0.1455 - accuracy: 0.9600\n",
      "Melhor accuracy: 0.866000 usando {'model__neurons': 256, 'optimizer__learning_rate': 0.0001}\n",
      "\n",
      "0.850000 (0.046043) com: {'model__neurons': 64, 'optimizer__learning_rate': 0.0001}\n",
      "0.840000 (0.051381) com: {'model__neurons': 64, 'optimizer__learning_rate': 0.001}\n",
      "0.836000 (0.057480) com: {'model__neurons': 64, 'optimizer__learning_rate': 0.01}\n",
      "0.838000 (0.059800) com: {'model__neurons': 128, 'optimizer__learning_rate': 0.0001}\n",
      "0.840000 (0.054772) com: {'model__neurons': 128, 'optimizer__learning_rate': 0.001}\n",
      "0.842000 (0.051536) com: {'model__neurons': 128, 'optimizer__learning_rate': 0.01}\n",
      "0.866000 (0.058172) com: {'model__neurons': 256, 'optimizer__learning_rate': 0.0001}\n",
      "0.848000 (0.045782) com: {'model__neurons': 256, 'optimizer__learning_rate': 0.001}\n",
      "0.844000 (0.059195) com: {'model__neurons': 256, 'optimizer__learning_rate': 0.01}\n"
     ]
    }
   ],
   "source": [
    "gs=GridSearchCV(estimator=model, param_grid=params, cv=5) \n",
    "  \n",
    "gs = gs.fit(train_images, train_labels)\n",
    "best_params=gs.best_params_ \n",
    "accuracy=gs.best_score_ \n",
    "\n",
    "\n",
    "print(\"Melhor accuracy: %f usando %s\\n\" % (accuracy, best_params))\n",
    "means = gs.cv_results_['mean_test_score']\n",
    "stds = gs.cv_results_['std_test_score']\n",
    "param_grid = gs.cv_results_['params']\n",
    "for mean, stdev, param in zip(means, stds, param_grid):\n",
    "    print(\"%f (%f) com: %r\" % (mean, stdev, param))"
   ]
  },
  {
   "cell_type": "markdown",
   "id": "f62cc0ef",
   "metadata": {},
   "source": [
    "RandomizedSearch"
   ]
  },
  {
   "cell_type": "code",
   "execution_count": 9,
   "id": "fffb4e2c",
   "metadata": {},
   "outputs": [
    {
     "name": "stderr",
     "output_type": "stream",
     "text": [
      "C:\\Users\\footr\\anaconda3\\Lib\\site-packages\\sklearn\\model_selection\\_search.py:305: UserWarning: The total space of parameters 9 is smaller than n_iter=10. Running 9 iterations. For exhaustive searches, use GridSearchCV.\n",
      "  warnings.warn(\n",
      "C:\\Users\\footr\\anaconda3\\Lib\\site-packages\\scikeras\\wrappers.py:915: UserWarning: ``build_fn`` will be renamed to ``model`` in a future release, at which point use of ``build_fn`` will raise an Error instead.\n",
      "  X, y = self._initialize(X, y)\n"
     ]
    },
    {
     "name": "stdout",
     "output_type": "stream",
     "text": [
      "Epoch 1/10\n",
      "7/7 [==============================] - 6s 437ms/step - loss: 1.3714 - accuracy: 0.5000\n",
      "Epoch 2/10\n",
      "7/7 [==============================] - 3s 436ms/step - loss: 0.8791 - accuracy: 0.7025\n",
      "Epoch 3/10\n",
      "7/7 [==============================] - 3s 439ms/step - loss: 0.6616 - accuracy: 0.7550\n",
      "Epoch 4/10\n",
      "7/7 [==============================] - 3s 458ms/step - loss: 0.5897 - accuracy: 0.8000\n",
      "Epoch 5/10\n",
      "7/7 [==============================] - 3s 437ms/step - loss: 0.4916 - accuracy: 0.8500\n",
      "Epoch 6/10\n",
      "7/7 [==============================] - 3s 436ms/step - loss: 0.3994 - accuracy: 0.8500\n",
      "Epoch 7/10\n",
      "7/7 [==============================] - 3s 435ms/step - loss: 0.3655 - accuracy: 0.8700\n",
      "Epoch 8/10\n",
      "7/7 [==============================] - 3s 455ms/step - loss: 0.3608 - accuracy: 0.8700\n",
      "Epoch 9/10\n",
      "7/7 [==============================] - 3s 443ms/step - loss: 0.3264 - accuracy: 0.8975\n",
      "Epoch 10/10\n",
      "7/7 [==============================] - 3s 427ms/step - loss: 0.2712 - accuracy: 0.9200\n",
      "2/2 [==============================] - 2s 265ms/step\n"
     ]
    },
    {
     "name": "stderr",
     "output_type": "stream",
     "text": [
      "C:\\Users\\footr\\anaconda3\\Lib\\site-packages\\scikeras\\wrappers.py:915: UserWarning: ``build_fn`` will be renamed to ``model`` in a future release, at which point use of ``build_fn`` will raise an Error instead.\n",
      "  X, y = self._initialize(X, y)\n"
     ]
    },
    {
     "name": "stdout",
     "output_type": "stream",
     "text": [
      "Epoch 1/10\n",
      "7/7 [==============================] - 6s 423ms/step - loss: 1.5988 - accuracy: 0.4375\n",
      "Epoch 2/10\n",
      "7/7 [==============================] - 3s 435ms/step - loss: 0.9732 - accuracy: 0.6450\n",
      "Epoch 3/10\n",
      "7/7 [==============================] - 3s 452ms/step - loss: 0.7641 - accuracy: 0.7525\n",
      "Epoch 4/10\n",
      "7/7 [==============================] - 3s 450ms/step - loss: 0.6117 - accuracy: 0.8050\n",
      "Epoch 5/10\n",
      "7/7 [==============================] - 3s 458ms/step - loss: 0.6025 - accuracy: 0.8075\n",
      "Epoch 6/10\n",
      "7/7 [==============================] - 3s 456ms/step - loss: 0.5039 - accuracy: 0.7975\n",
      "Epoch 7/10\n",
      "7/7 [==============================] - 3s 440ms/step - loss: 0.4948 - accuracy: 0.8250\n",
      "Epoch 8/10\n",
      "7/7 [==============================] - 3s 441ms/step - loss: 0.4292 - accuracy: 0.8575\n",
      "Epoch 9/10\n",
      "7/7 [==============================] - 3s 460ms/step - loss: 0.3365 - accuracy: 0.8975\n",
      "Epoch 10/10\n",
      "7/7 [==============================] - 3s 427ms/step - loss: 0.3079 - accuracy: 0.8900\n",
      "2/2 [==============================] - 2s 264ms/step\n"
     ]
    },
    {
     "name": "stderr",
     "output_type": "stream",
     "text": [
      "C:\\Users\\footr\\anaconda3\\Lib\\site-packages\\scikeras\\wrappers.py:915: UserWarning: ``build_fn`` will be renamed to ``model`` in a future release, at which point use of ``build_fn`` will raise an Error instead.\n",
      "  X, y = self._initialize(X, y)\n"
     ]
    },
    {
     "name": "stdout",
     "output_type": "stream",
     "text": [
      "Epoch 1/10\n",
      "7/7 [==============================] - 7s 433ms/step - loss: 1.3948 - accuracy: 0.5050\n",
      "Epoch 2/10\n",
      "7/7 [==============================] - 3s 466ms/step - loss: 0.7773 - accuracy: 0.7450\n",
      "Epoch 3/10\n",
      "7/7 [==============================] - 3s 437ms/step - loss: 0.6704 - accuracy: 0.7825\n",
      "Epoch 4/10\n",
      "7/7 [==============================] - 3s 438ms/step - loss: 0.6273 - accuracy: 0.7950\n",
      "Epoch 5/10\n",
      "7/7 [==============================] - 3s 423ms/step - loss: 0.5569 - accuracy: 0.8125\n",
      "Epoch 6/10\n",
      "7/7 [==============================] - 3s 446ms/step - loss: 0.3641 - accuracy: 0.8725\n",
      "Epoch 7/10\n",
      "7/7 [==============================] - 3s 463ms/step - loss: 0.3430 - accuracy: 0.8700\n",
      "Epoch 8/10\n",
      "7/7 [==============================] - 3s 419ms/step - loss: 0.2887 - accuracy: 0.8900\n",
      "Epoch 9/10\n",
      "7/7 [==============================] - 3s 440ms/step - loss: 0.3164 - accuracy: 0.8925\n",
      "Epoch 10/10\n",
      "7/7 [==============================] - 3s 435ms/step - loss: 0.2682 - accuracy: 0.9175\n",
      "2/2 [==============================] - 2s 274ms/step\n"
     ]
    },
    {
     "name": "stderr",
     "output_type": "stream",
     "text": [
      "C:\\Users\\footr\\anaconda3\\Lib\\site-packages\\scikeras\\wrappers.py:915: UserWarning: ``build_fn`` will be renamed to ``model`` in a future release, at which point use of ``build_fn`` will raise an Error instead.\n",
      "  X, y = self._initialize(X, y)\n"
     ]
    },
    {
     "name": "stdout",
     "output_type": "stream",
     "text": [
      "Epoch 1/10\n",
      "7/7 [==============================] - 7s 453ms/step - loss: 1.5556 - accuracy: 0.4525\n",
      "Epoch 2/10\n",
      "7/7 [==============================] - 3s 445ms/step - loss: 0.9868 - accuracy: 0.6300\n",
      "Epoch 3/10\n",
      "7/7 [==============================] - 3s 439ms/step - loss: 0.8953 - accuracy: 0.6875\n",
      "Epoch 4/10\n",
      "7/7 [==============================] - 3s 431ms/step - loss: 0.6955 - accuracy: 0.7475\n",
      "Epoch 5/10\n",
      "7/7 [==============================] - 3s 481ms/step - loss: 0.6188 - accuracy: 0.7500\n",
      "Epoch 6/10\n",
      "7/7 [==============================] - 3s 443ms/step - loss: 0.5592 - accuracy: 0.7825\n",
      "Epoch 7/10\n",
      "7/7 [==============================] - 3s 423ms/step - loss: 0.4979 - accuracy: 0.8350\n",
      "Epoch 8/10\n",
      "7/7 [==============================] - 3s 428ms/step - loss: 0.4195 - accuracy: 0.8575\n",
      "Epoch 9/10\n",
      "7/7 [==============================] - 3s 442ms/step - loss: 0.3809 - accuracy: 0.8650\n",
      "Epoch 10/10\n",
      "7/7 [==============================] - 3s 435ms/step - loss: 0.3523 - accuracy: 0.8600\n",
      "2/2 [==============================] - 2s 318ms/step\n"
     ]
    },
    {
     "name": "stderr",
     "output_type": "stream",
     "text": [
      "C:\\Users\\footr\\anaconda3\\Lib\\site-packages\\scikeras\\wrappers.py:915: UserWarning: ``build_fn`` will be renamed to ``model`` in a future release, at which point use of ``build_fn`` will raise an Error instead.\n",
      "  X, y = self._initialize(X, y)\n"
     ]
    },
    {
     "name": "stdout",
     "output_type": "stream",
     "text": [
      "Epoch 1/10\n",
      "7/7 [==============================] - 6s 435ms/step - loss: 1.5215 - accuracy: 0.4175\n",
      "Epoch 2/10\n",
      "7/7 [==============================] - 3s 459ms/step - loss: 0.9411 - accuracy: 0.6825\n",
      "Epoch 3/10\n",
      "7/7 [==============================] - 3s 451ms/step - loss: 0.7990 - accuracy: 0.7250\n",
      "Epoch 4/10\n",
      "7/7 [==============================] - 3s 433ms/step - loss: 0.6318 - accuracy: 0.7850\n",
      "Epoch 5/10\n",
      "7/7 [==============================] - 3s 495ms/step - loss: 0.5767 - accuracy: 0.7800\n",
      "Epoch 6/10\n",
      "7/7 [==============================] - 3s 468ms/step - loss: 0.5380 - accuracy: 0.8050\n",
      "Epoch 7/10\n",
      "7/7 [==============================] - 4s 500ms/step - loss: 0.4447 - accuracy: 0.8400\n",
      "Epoch 8/10\n",
      "7/7 [==============================] - 3s 430ms/step - loss: 0.4178 - accuracy: 0.8450\n",
      "Epoch 9/10\n",
      "7/7 [==============================] - 3s 417ms/step - loss: 0.3475 - accuracy: 0.8775\n",
      "Epoch 10/10\n",
      "7/7 [==============================] - 3s 393ms/step - loss: 0.2960 - accuracy: 0.8975\n",
      "2/2 [==============================] - 2s 251ms/step\n"
     ]
    },
    {
     "name": "stderr",
     "output_type": "stream",
     "text": [
      "C:\\Users\\footr\\anaconda3\\Lib\\site-packages\\scikeras\\wrappers.py:915: UserWarning: ``build_fn`` will be renamed to ``model`` in a future release, at which point use of ``build_fn`` will raise an Error instead.\n",
      "  X, y = self._initialize(X, y)\n"
     ]
    },
    {
     "name": "stdout",
     "output_type": "stream",
     "text": [
      "Epoch 1/10\n",
      "7/7 [==============================] - 7s 450ms/step - loss: 1.5469 - accuracy: 0.4275\n",
      "Epoch 2/10\n",
      "7/7 [==============================] - 3s 425ms/step - loss: 0.9443 - accuracy: 0.6325\n",
      "Epoch 3/10\n",
      "7/7 [==============================] - 3s 441ms/step - loss: 0.8849 - accuracy: 0.7250\n",
      "Epoch 4/10\n",
      "7/7 [==============================] - 3s 451ms/step - loss: 0.5942 - accuracy: 0.8025\n",
      "Epoch 5/10\n",
      "7/7 [==============================] - 3s 457ms/step - loss: 0.5974 - accuracy: 0.8150\n",
      "Epoch 6/10\n",
      "7/7 [==============================] - 3s 444ms/step - loss: 0.5131 - accuracy: 0.8250\n",
      "Epoch 7/10\n",
      "7/7 [==============================] - 3s 436ms/step - loss: 0.4184 - accuracy: 0.8450\n",
      "Epoch 8/10\n",
      "7/7 [==============================] - 3s 447ms/step - loss: 0.4317 - accuracy: 0.8625\n",
      "Epoch 9/10\n",
      "7/7 [==============================] - 3s 456ms/step - loss: 0.3192 - accuracy: 0.8900\n",
      "Epoch 10/10\n",
      "7/7 [==============================] - 3s 458ms/step - loss: 0.2904 - accuracy: 0.8875\n",
      "2/2 [==============================] - 2s 294ms/step\n"
     ]
    },
    {
     "name": "stderr",
     "output_type": "stream",
     "text": [
      "C:\\Users\\footr\\anaconda3\\Lib\\site-packages\\scikeras\\wrappers.py:915: UserWarning: ``build_fn`` will be renamed to ``model`` in a future release, at which point use of ``build_fn`` will raise an Error instead.\n",
      "  X, y = self._initialize(X, y)\n"
     ]
    },
    {
     "name": "stdout",
     "output_type": "stream",
     "text": [
      "Epoch 1/10\n",
      "7/7 [==============================] - 8s 428ms/step - loss: 1.7165 - accuracy: 0.4175\n",
      "Epoch 2/10\n",
      "7/7 [==============================] - 3s 446ms/step - loss: 0.9697 - accuracy: 0.6425\n",
      "Epoch 3/10\n",
      "7/7 [==============================] - 3s 472ms/step - loss: 0.7954 - accuracy: 0.6925\n",
      "Epoch 4/10\n",
      "7/7 [==============================] - 3s 441ms/step - loss: 0.6627 - accuracy: 0.7800\n",
      "Epoch 5/10\n",
      "7/7 [==============================] - 3s 437ms/step - loss: 0.5754 - accuracy: 0.7775\n",
      "Epoch 6/10\n",
      "7/7 [==============================] - 3s 435ms/step - loss: 0.5781 - accuracy: 0.8000\n",
      "Epoch 7/10\n",
      "7/7 [==============================] - 3s 448ms/step - loss: 0.4465 - accuracy: 0.8175\n",
      "Epoch 8/10\n",
      "7/7 [==============================] - 3s 452ms/step - loss: 0.4667 - accuracy: 0.8100\n",
      "Epoch 9/10\n",
      "7/7 [==============================] - 3s 431ms/step - loss: 0.4152 - accuracy: 0.8475\n",
      "Epoch 10/10\n",
      "7/7 [==============================] - 3s 422ms/step - loss: 0.3439 - accuracy: 0.8650\n",
      "2/2 [==============================] - 2s 272ms/step\n"
     ]
    },
    {
     "name": "stderr",
     "output_type": "stream",
     "text": [
      "C:\\Users\\footr\\anaconda3\\Lib\\site-packages\\scikeras\\wrappers.py:915: UserWarning: ``build_fn`` will be renamed to ``model`` in a future release, at which point use of ``build_fn`` will raise an Error instead.\n",
      "  X, y = self._initialize(X, y)\n"
     ]
    },
    {
     "name": "stdout",
     "output_type": "stream",
     "text": [
      "Epoch 1/10\n",
      "7/7 [==============================] - 7s 450ms/step - loss: 1.4378 - accuracy: 0.4650\n",
      "Epoch 2/10\n",
      "7/7 [==============================] - 3s 442ms/step - loss: 0.8324 - accuracy: 0.7200\n",
      "Epoch 3/10\n",
      "7/7 [==============================] - 3s 468ms/step - loss: 0.5718 - accuracy: 0.8150\n",
      "Epoch 4/10\n",
      "7/7 [==============================] - 3s 443ms/step - loss: 0.5298 - accuracy: 0.8300\n",
      "Epoch 5/10\n",
      "7/7 [==============================] - 3s 478ms/step - loss: 0.3663 - accuracy: 0.8725\n",
      "Epoch 6/10\n",
      "7/7 [==============================] - 3s 451ms/step - loss: 0.3593 - accuracy: 0.8725\n",
      "Epoch 7/10\n",
      "7/7 [==============================] - 3s 450ms/step - loss: 0.3334 - accuracy: 0.8950\n",
      "Epoch 8/10\n",
      "7/7 [==============================] - 3s 441ms/step - loss: 0.3088 - accuracy: 0.9000\n",
      "Epoch 9/10\n",
      "7/7 [==============================] - 3s 461ms/step - loss: 0.2407 - accuracy: 0.9200\n",
      "Epoch 10/10\n",
      "7/7 [==============================] - 3s 470ms/step - loss: 0.2597 - accuracy: 0.9200\n",
      "2/2 [==============================] - 2s 276ms/step\n"
     ]
    },
    {
     "name": "stderr",
     "output_type": "stream",
     "text": [
      "C:\\Users\\footr\\anaconda3\\Lib\\site-packages\\scikeras\\wrappers.py:915: UserWarning: ``build_fn`` will be renamed to ``model`` in a future release, at which point use of ``build_fn`` will raise an Error instead.\n",
      "  X, y = self._initialize(X, y)\n"
     ]
    },
    {
     "name": "stdout",
     "output_type": "stream",
     "text": [
      "Epoch 1/10\n",
      "7/7 [==============================] - 7s 435ms/step - loss: 1.7702 - accuracy: 0.3850\n",
      "Epoch 2/10\n",
      "7/7 [==============================] - 3s 449ms/step - loss: 0.9847 - accuracy: 0.6450\n",
      "Epoch 3/10\n",
      "7/7 [==============================] - 3s 441ms/step - loss: 0.7989 - accuracy: 0.6950\n",
      "Epoch 4/10\n",
      "7/7 [==============================] - 3s 440ms/step - loss: 0.7141 - accuracy: 0.7200\n",
      "Epoch 5/10\n",
      "7/7 [==============================] - 3s 428ms/step - loss: 0.5584 - accuracy: 0.7850\n",
      "Epoch 6/10\n",
      "7/7 [==============================] - 3s 452ms/step - loss: 0.5466 - accuracy: 0.8050\n",
      "Epoch 7/10\n",
      "7/7 [==============================] - 3s 438ms/step - loss: 0.4142 - accuracy: 0.8475\n",
      "Epoch 8/10\n",
      "7/7 [==============================] - 3s 437ms/step - loss: 0.4242 - accuracy: 0.8425\n",
      "Epoch 9/10\n",
      "7/7 [==============================] - 3s 433ms/step - loss: 0.3714 - accuracy: 0.8625\n",
      "Epoch 10/10\n",
      "7/7 [==============================] - 3s 432ms/step - loss: 0.3625 - accuracy: 0.8725\n",
      "2/2 [==============================] - 2s 302ms/step\n"
     ]
    },
    {
     "name": "stderr",
     "output_type": "stream",
     "text": [
      "C:\\Users\\footr\\anaconda3\\Lib\\site-packages\\scikeras\\wrappers.py:915: UserWarning: ``build_fn`` will be renamed to ``model`` in a future release, at which point use of ``build_fn`` will raise an Error instead.\n",
      "  X, y = self._initialize(X, y)\n"
     ]
    },
    {
     "name": "stdout",
     "output_type": "stream",
     "text": [
      "Epoch 1/10\n",
      "7/7 [==============================] - 7s 448ms/step - loss: 1.5654 - accuracy: 0.4000\n",
      "Epoch 2/10\n",
      "7/7 [==============================] - 3s 436ms/step - loss: 0.9376 - accuracy: 0.6325\n",
      "Epoch 3/10\n",
      "7/7 [==============================] - 3s 442ms/step - loss: 0.7095 - accuracy: 0.7325\n",
      "Epoch 4/10\n",
      "7/7 [==============================] - 3s 480ms/step - loss: 0.7153 - accuracy: 0.7400\n",
      "Epoch 5/10\n",
      "7/7 [==============================] - 3s 469ms/step - loss: 0.5460 - accuracy: 0.8100\n",
      "Epoch 6/10\n",
      "7/7 [==============================] - 3s 461ms/step - loss: 0.5465 - accuracy: 0.8175\n",
      "Epoch 7/10\n",
      "7/7 [==============================] - 3s 444ms/step - loss: 0.4636 - accuracy: 0.8400\n",
      "Epoch 8/10\n",
      "7/7 [==============================] - 3s 457ms/step - loss: 0.4901 - accuracy: 0.8325\n",
      "Epoch 9/10\n",
      "7/7 [==============================] - 3s 460ms/step - loss: 0.3543 - accuracy: 0.8900\n",
      "Epoch 10/10\n",
      "7/7 [==============================] - 3s 456ms/step - loss: 0.3804 - accuracy: 0.8625\n",
      "2/2 [==============================] - 2s 285ms/step\n"
     ]
    },
    {
     "name": "stderr",
     "output_type": "stream",
     "text": [
      "C:\\Users\\footr\\anaconda3\\Lib\\site-packages\\scikeras\\wrappers.py:915: UserWarning: ``build_fn`` will be renamed to ``model`` in a future release, at which point use of ``build_fn`` will raise an Error instead.\n",
      "  X, y = self._initialize(X, y)\n"
     ]
    },
    {
     "name": "stdout",
     "output_type": "stream",
     "text": [
      "Epoch 1/10\n",
      "7/7 [==============================] - 7s 461ms/step - loss: 1.6137 - accuracy: 0.4200\n",
      "Epoch 2/10\n",
      "7/7 [==============================] - 3s 461ms/step - loss: 0.8902 - accuracy: 0.6725\n",
      "Epoch 3/10\n",
      "7/7 [==============================] - 3s 452ms/step - loss: 0.7610 - accuracy: 0.7625\n",
      "Epoch 4/10\n",
      "7/7 [==============================] - 3s 446ms/step - loss: 0.5616 - accuracy: 0.8150\n",
      "Epoch 5/10\n",
      "7/7 [==============================] - 3s 451ms/step - loss: 0.4830 - accuracy: 0.8325\n",
      "Epoch 6/10\n",
      "7/7 [==============================] - 3s 461ms/step - loss: 0.4778 - accuracy: 0.8150\n",
      "Epoch 7/10\n",
      "7/7 [==============================] - 3s 444ms/step - loss: 0.4502 - accuracy: 0.8450\n",
      "Epoch 8/10\n",
      "7/7 [==============================] - 3s 443ms/step - loss: 0.3507 - accuracy: 0.8750\n",
      "Epoch 9/10\n",
      "7/7 [==============================] - 3s 418ms/step - loss: 0.3387 - accuracy: 0.8750\n",
      "Epoch 10/10\n",
      "7/7 [==============================] - 3s 407ms/step - loss: 0.2932 - accuracy: 0.8900\n",
      "2/2 [==============================] - 2s 251ms/step\n"
     ]
    },
    {
     "name": "stderr",
     "output_type": "stream",
     "text": [
      "C:\\Users\\footr\\anaconda3\\Lib\\site-packages\\scikeras\\wrappers.py:915: UserWarning: ``build_fn`` will be renamed to ``model`` in a future release, at which point use of ``build_fn`` will raise an Error instead.\n",
      "  X, y = self._initialize(X, y)\n"
     ]
    },
    {
     "name": "stdout",
     "output_type": "stream",
     "text": [
      "Epoch 1/10\n",
      "7/7 [==============================] - 7s 428ms/step - loss: 1.5253 - accuracy: 0.4375\n",
      "Epoch 2/10\n",
      "7/7 [==============================] - 3s 445ms/step - loss: 0.9013 - accuracy: 0.6625\n",
      "Epoch 3/10\n",
      "7/7 [==============================] - 3s 443ms/step - loss: 0.7704 - accuracy: 0.7375\n",
      "Epoch 4/10\n",
      "7/7 [==============================] - 3s 432ms/step - loss: 0.6143 - accuracy: 0.8025\n",
      "Epoch 5/10\n",
      "7/7 [==============================] - 3s 466ms/step - loss: 0.5627 - accuracy: 0.8125\n",
      "Epoch 6/10\n",
      "7/7 [==============================] - 3s 441ms/step - loss: 0.4481 - accuracy: 0.8600\n",
      "Epoch 7/10\n",
      "7/7 [==============================] - 3s 426ms/step - loss: 0.3586 - accuracy: 0.8900\n",
      "Epoch 8/10\n",
      "7/7 [==============================] - 3s 454ms/step - loss: 0.3656 - accuracy: 0.8500\n",
      "Epoch 9/10\n",
      "7/7 [==============================] - 3s 426ms/step - loss: 0.4390 - accuracy: 0.8625\n",
      "Epoch 10/10\n",
      "7/7 [==============================] - 3s 429ms/step - loss: 0.2965 - accuracy: 0.8900\n",
      "2/2 [==============================] - 2s 267ms/step\n"
     ]
    },
    {
     "name": "stderr",
     "output_type": "stream",
     "text": [
      "C:\\Users\\footr\\anaconda3\\Lib\\site-packages\\scikeras\\wrappers.py:915: UserWarning: ``build_fn`` will be renamed to ``model`` in a future release, at which point use of ``build_fn`` will raise an Error instead.\n",
      "  X, y = self._initialize(X, y)\n"
     ]
    },
    {
     "name": "stdout",
     "output_type": "stream",
     "text": [
      "Epoch 1/10\n",
      "7/7 [==============================] - 6s 417ms/step - loss: 2.1225 - accuracy: 0.3375\n",
      "Epoch 2/10\n",
      "7/7 [==============================] - 3s 438ms/step - loss: 1.1757 - accuracy: 0.5775\n",
      "Epoch 3/10\n",
      "7/7 [==============================] - 3s 453ms/step - loss: 0.9701 - accuracy: 0.6275\n",
      "Epoch 4/10\n",
      "7/7 [==============================] - 3s 448ms/step - loss: 0.7194 - accuracy: 0.7450\n",
      "Epoch 5/10\n",
      "7/7 [==============================] - 3s 446ms/step - loss: 0.6185 - accuracy: 0.7475\n",
      "Epoch 6/10\n",
      "7/7 [==============================] - 3s 433ms/step - loss: 0.5707 - accuracy: 0.7950\n",
      "Epoch 7/10\n",
      "7/7 [==============================] - 3s 435ms/step - loss: 0.5040 - accuracy: 0.8200\n",
      "Epoch 8/10\n",
      "7/7 [==============================] - 3s 418ms/step - loss: 0.4341 - accuracy: 0.8375\n",
      "Epoch 9/10\n",
      "7/7 [==============================] - 3s 433ms/step - loss: 0.4315 - accuracy: 0.8325\n",
      "Epoch 10/10\n",
      "7/7 [==============================] - 3s 448ms/step - loss: 0.3732 - accuracy: 0.8650\n",
      "2/2 [==============================] - 2s 286ms/step\n"
     ]
    },
    {
     "name": "stderr",
     "output_type": "stream",
     "text": [
      "C:\\Users\\footr\\anaconda3\\Lib\\site-packages\\scikeras\\wrappers.py:915: UserWarning: ``build_fn`` will be renamed to ``model`` in a future release, at which point use of ``build_fn`` will raise an Error instead.\n",
      "  X, y = self._initialize(X, y)\n"
     ]
    },
    {
     "name": "stdout",
     "output_type": "stream",
     "text": [
      "Epoch 1/10\n",
      "7/7 [==============================] - 7s 469ms/step - loss: 1.6433 - accuracy: 0.3875\n",
      "Epoch 2/10\n",
      "7/7 [==============================] - 3s 446ms/step - loss: 0.8963 - accuracy: 0.6450\n",
      "Epoch 3/10\n",
      "7/7 [==============================] - 3s 448ms/step - loss: 0.8122 - accuracy: 0.6875\n",
      "Epoch 4/10\n",
      "7/7 [==============================] - 3s 471ms/step - loss: 0.6971 - accuracy: 0.7225\n",
      "Epoch 5/10\n",
      "7/7 [==============================] - 3s 453ms/step - loss: 0.6037 - accuracy: 0.7875\n",
      "Epoch 6/10\n",
      "7/7 [==============================] - 3s 463ms/step - loss: 0.5366 - accuracy: 0.8000\n",
      "Epoch 7/10\n",
      "7/7 [==============================] - 3s 419ms/step - loss: 0.4220 - accuracy: 0.8525\n",
      "Epoch 8/10\n",
      "7/7 [==============================] - 3s 435ms/step - loss: 0.4463 - accuracy: 0.8300\n",
      "Epoch 9/10\n",
      "7/7 [==============================] - 3s 414ms/step - loss: 0.3749 - accuracy: 0.8950\n",
      "Epoch 10/10\n",
      "7/7 [==============================] - 3s 411ms/step - loss: 0.3712 - accuracy: 0.8800\n",
      "2/2 [==============================] - 2s 258ms/step\n"
     ]
    },
    {
     "name": "stderr",
     "output_type": "stream",
     "text": [
      "C:\\Users\\footr\\anaconda3\\Lib\\site-packages\\scikeras\\wrappers.py:915: UserWarning: ``build_fn`` will be renamed to ``model`` in a future release, at which point use of ``build_fn`` will raise an Error instead.\n",
      "  X, y = self._initialize(X, y)\n"
     ]
    },
    {
     "name": "stdout",
     "output_type": "stream",
     "text": [
      "Epoch 1/10\n",
      "7/7 [==============================] - 7s 435ms/step - loss: 1.7171 - accuracy: 0.4300\n",
      "Epoch 2/10\n",
      "7/7 [==============================] - 3s 425ms/step - loss: 0.9698 - accuracy: 0.6850\n",
      "Epoch 3/10\n",
      "7/7 [==============================] - 3s 426ms/step - loss: 0.6597 - accuracy: 0.7325\n",
      "Epoch 4/10\n",
      "7/7 [==============================] - 3s 420ms/step - loss: 0.5325 - accuracy: 0.8075\n",
      "Epoch 5/10\n",
      "7/7 [==============================] - 3s 435ms/step - loss: 0.5594 - accuracy: 0.7750\n",
      "Epoch 6/10\n",
      "7/7 [==============================] - 3s 417ms/step - loss: 0.4219 - accuracy: 0.8550\n",
      "Epoch 7/10\n",
      "7/7 [==============================] - 3s 407ms/step - loss: 0.4865 - accuracy: 0.8350\n",
      "Epoch 8/10\n",
      "7/7 [==============================] - 3s 426ms/step - loss: 0.3708 - accuracy: 0.8725\n",
      "Epoch 9/10\n",
      "7/7 [==============================] - 3s 422ms/step - loss: 0.3752 - accuracy: 0.8450\n",
      "Epoch 10/10\n",
      "7/7 [==============================] - 3s 410ms/step - loss: 0.3231 - accuracy: 0.8825\n",
      "2/2 [==============================] - 2s 278ms/step\n"
     ]
    },
    {
     "name": "stderr",
     "output_type": "stream",
     "text": [
      "C:\\Users\\footr\\anaconda3\\Lib\\site-packages\\scikeras\\wrappers.py:915: UserWarning: ``build_fn`` will be renamed to ``model`` in a future release, at which point use of ``build_fn`` will raise an Error instead.\n",
      "  X, y = self._initialize(X, y)\n"
     ]
    },
    {
     "name": "stdout",
     "output_type": "stream",
     "text": [
      "Epoch 1/10\n",
      "7/7 [==============================] - 9s 475ms/step - loss: 1.9050 - accuracy: 0.3850\n",
      "Epoch 2/10\n",
      "7/7 [==============================] - 4s 502ms/step - loss: 0.9912 - accuracy: 0.6475\n",
      "Epoch 3/10\n",
      "7/7 [==============================] - 4s 525ms/step - loss: 0.6955 - accuracy: 0.7625\n",
      "Epoch 4/10\n",
      "7/7 [==============================] - 4s 518ms/step - loss: 0.5954 - accuracy: 0.7800\n",
      "Epoch 5/10\n",
      "7/7 [==============================] - 4s 525ms/step - loss: 0.4360 - accuracy: 0.8400\n",
      "Epoch 6/10\n",
      "7/7 [==============================] - 4s 528ms/step - loss: 0.3896 - accuracy: 0.8600\n",
      "Epoch 7/10\n",
      "7/7 [==============================] - 4s 523ms/step - loss: 0.2865 - accuracy: 0.8950\n",
      "Epoch 8/10\n",
      "7/7 [==============================] - 4s 487ms/step - loss: 0.3015 - accuracy: 0.8950\n",
      "Epoch 9/10\n",
      "7/7 [==============================] - 4s 487ms/step - loss: 0.2521 - accuracy: 0.9150\n",
      "Epoch 10/10\n",
      "7/7 [==============================] - 3s 466ms/step - loss: 0.2638 - accuracy: 0.9175\n",
      "2/2 [==============================] - 2s 296ms/step\n"
     ]
    },
    {
     "name": "stderr",
     "output_type": "stream",
     "text": [
      "C:\\Users\\footr\\anaconda3\\Lib\\site-packages\\scikeras\\wrappers.py:915: UserWarning: ``build_fn`` will be renamed to ``model`` in a future release, at which point use of ``build_fn`` will raise an Error instead.\n",
      "  X, y = self._initialize(X, y)\n"
     ]
    },
    {
     "name": "stdout",
     "output_type": "stream",
     "text": [
      "Epoch 1/10\n",
      "7/7 [==============================] - 7s 545ms/step - loss: 1.5666 - accuracy: 0.4675\n",
      "Epoch 2/10\n",
      "7/7 [==============================] - 4s 533ms/step - loss: 0.9342 - accuracy: 0.7650\n",
      "Epoch 3/10\n",
      "7/7 [==============================] - 4s 493ms/step - loss: 0.6126 - accuracy: 0.8225\n",
      "Epoch 4/10\n",
      "7/7 [==============================] - 4s 509ms/step - loss: 0.5470 - accuracy: 0.8500\n",
      "Epoch 5/10\n",
      "7/7 [==============================] - 4s 498ms/step - loss: 0.4155 - accuracy: 0.8725\n",
      "Epoch 6/10\n",
      "7/7 [==============================] - 4s 514ms/step - loss: 0.3948 - accuracy: 0.8525\n",
      "Epoch 7/10\n",
      "7/7 [==============================] - 4s 577ms/step - loss: 0.2671 - accuracy: 0.9075\n",
      "Epoch 8/10\n",
      "7/7 [==============================] - 4s 532ms/step - loss: 0.4106 - accuracy: 0.8775\n",
      "Epoch 9/10\n",
      "7/7 [==============================] - 4s 533ms/step - loss: 0.2757 - accuracy: 0.9075\n",
      "Epoch 10/10\n",
      "7/7 [==============================] - 4s 534ms/step - loss: 0.2106 - accuracy: 0.9425\n",
      "2/2 [==============================] - 2s 370ms/step\n"
     ]
    },
    {
     "name": "stderr",
     "output_type": "stream",
     "text": [
      "C:\\Users\\footr\\anaconda3\\Lib\\site-packages\\scikeras\\wrappers.py:915: UserWarning: ``build_fn`` will be renamed to ``model`` in a future release, at which point use of ``build_fn`` will raise an Error instead.\n",
      "  X, y = self._initialize(X, y)\n"
     ]
    },
    {
     "name": "stdout",
     "output_type": "stream",
     "text": [
      "Epoch 1/10\n",
      "7/7 [==============================] - 7s 579ms/step - loss: 1.9312 - accuracy: 0.4125\n",
      "Epoch 2/10\n",
      "7/7 [==============================] - 4s 553ms/step - loss: 1.0051 - accuracy: 0.7100\n",
      "Epoch 3/10\n",
      "7/7 [==============================] - 4s 541ms/step - loss: 0.7996 - accuracy: 0.7550\n",
      "Epoch 4/10\n",
      "7/7 [==============================] - 3s 485ms/step - loss: 0.5543 - accuracy: 0.8325\n",
      "Epoch 5/10\n",
      "7/7 [==============================] - 4s 570ms/step - loss: 0.4638 - accuracy: 0.8575\n",
      "Epoch 6/10\n",
      "7/7 [==============================] - 4s 575ms/step - loss: 0.3562 - accuracy: 0.8825\n",
      "Epoch 7/10\n",
      "7/7 [==============================] - 4s 546ms/step - loss: 0.3614 - accuracy: 0.8825\n",
      "Epoch 8/10\n",
      "7/7 [==============================] - 4s 517ms/step - loss: 0.3166 - accuracy: 0.8975\n",
      "Epoch 9/10\n",
      "7/7 [==============================] - 4s 503ms/step - loss: 0.2251 - accuracy: 0.9300\n",
      "Epoch 10/10\n",
      "7/7 [==============================] - 4s 520ms/step - loss: 0.2072 - accuracy: 0.9300\n",
      "2/2 [==============================] - 2s 277ms/step\n"
     ]
    },
    {
     "name": "stderr",
     "output_type": "stream",
     "text": [
      "C:\\Users\\footr\\anaconda3\\Lib\\site-packages\\scikeras\\wrappers.py:915: UserWarning: ``build_fn`` will be renamed to ``model`` in a future release, at which point use of ``build_fn`` will raise an Error instead.\n",
      "  X, y = self._initialize(X, y)\n"
     ]
    },
    {
     "name": "stdout",
     "output_type": "stream",
     "text": [
      "Epoch 1/10\n",
      "7/7 [==============================] - 7s 581ms/step - loss: 1.8437 - accuracy: 0.4825\n",
      "Epoch 2/10\n",
      "7/7 [==============================] - 4s 604ms/step - loss: 0.8867 - accuracy: 0.6925\n",
      "Epoch 3/10\n",
      "7/7 [==============================] - 4s 525ms/step - loss: 0.6389 - accuracy: 0.8025\n",
      "Epoch 4/10\n",
      "7/7 [==============================] - 4s 478ms/step - loss: 0.5685 - accuracy: 0.8075\n",
      "Epoch 5/10\n",
      "7/7 [==============================] - 4s 521ms/step - loss: 0.4146 - accuracy: 0.8500\n",
      "Epoch 6/10\n",
      "7/7 [==============================] - 4s 519ms/step - loss: 0.2775 - accuracy: 0.9050\n",
      "Epoch 7/10\n",
      "7/7 [==============================] - 4s 520ms/step - loss: 0.3643 - accuracy: 0.8900\n",
      "Epoch 8/10\n",
      "7/7 [==============================] - 4s 509ms/step - loss: 0.2066 - accuracy: 0.9275\n",
      "Epoch 9/10\n",
      "7/7 [==============================] - 3s 482ms/step - loss: 0.2228 - accuracy: 0.9300\n",
      "Epoch 10/10\n",
      "7/7 [==============================] - 4s 510ms/step - loss: 0.2641 - accuracy: 0.9075\n",
      "2/2 [==============================] - 2s 284ms/step\n"
     ]
    },
    {
     "name": "stderr",
     "output_type": "stream",
     "text": [
      "C:\\Users\\footr\\anaconda3\\Lib\\site-packages\\scikeras\\wrappers.py:915: UserWarning: ``build_fn`` will be renamed to ``model`` in a future release, at which point use of ``build_fn`` will raise an Error instead.\n",
      "  X, y = self._initialize(X, y)\n"
     ]
    },
    {
     "name": "stdout",
     "output_type": "stream",
     "text": [
      "Epoch 1/10\n",
      "7/7 [==============================] - 8s 619ms/step - loss: 2.0809 - accuracy: 0.4075\n",
      "Epoch 2/10\n",
      "7/7 [==============================] - 4s 586ms/step - loss: 0.9479 - accuracy: 0.6775\n",
      "Epoch 3/10\n",
      "7/7 [==============================] - 4s 559ms/step - loss: 0.7070 - accuracy: 0.7825\n",
      "Epoch 4/10\n",
      "7/7 [==============================] - 4s 535ms/step - loss: 0.5426 - accuracy: 0.8050\n",
      "Epoch 5/10\n",
      "7/7 [==============================] - 3s 486ms/step - loss: 0.5213 - accuracy: 0.8550\n",
      "Epoch 6/10\n",
      "7/7 [==============================] - 4s 511ms/step - loss: 0.4279 - accuracy: 0.8725\n",
      "Epoch 7/10\n",
      "7/7 [==============================] - 4s 527ms/step - loss: 0.3118 - accuracy: 0.9125\n",
      "Epoch 8/10\n",
      "7/7 [==============================] - 4s 511ms/step - loss: 0.3156 - accuracy: 0.8975\n",
      "Epoch 9/10\n",
      "7/7 [==============================] - 3s 454ms/step - loss: 0.2878 - accuracy: 0.9225\n",
      "Epoch 10/10\n",
      "7/7 [==============================] - 4s 505ms/step - loss: 0.2071 - accuracy: 0.9350\n",
      "2/2 [==============================] - 2s 339ms/step\n"
     ]
    },
    {
     "name": "stderr",
     "output_type": "stream",
     "text": [
      "C:\\Users\\footr\\anaconda3\\Lib\\site-packages\\scikeras\\wrappers.py:915: UserWarning: ``build_fn`` will be renamed to ``model`` in a future release, at which point use of ``build_fn`` will raise an Error instead.\n",
      "  X, y = self._initialize(X, y)\n"
     ]
    },
    {
     "name": "stdout",
     "output_type": "stream",
     "text": [
      "Epoch 1/10\n",
      "7/7 [==============================] - 8s 522ms/step - loss: 1.7497 - accuracy: 0.4375\n",
      "Epoch 2/10\n",
      "7/7 [==============================] - 3s 485ms/step - loss: 0.8162 - accuracy: 0.7275\n",
      "Epoch 3/10\n",
      "7/7 [==============================] - 4s 505ms/step - loss: 0.6835 - accuracy: 0.7675\n",
      "Epoch 4/10\n",
      "7/7 [==============================] - 4s 567ms/step - loss: 0.5012 - accuracy: 0.8200\n",
      "Epoch 5/10\n",
      "7/7 [==============================] - 4s 534ms/step - loss: 0.4059 - accuracy: 0.8425\n",
      "Epoch 6/10\n",
      "7/7 [==============================] - 4s 506ms/step - loss: 0.4041 - accuracy: 0.8450\n",
      "Epoch 7/10\n",
      "7/7 [==============================] - 4s 523ms/step - loss: 0.3282 - accuracy: 0.8950\n",
      "Epoch 8/10\n",
      "7/7 [==============================] - 4s 511ms/step - loss: 0.2914 - accuracy: 0.9125\n",
      "Epoch 9/10\n",
      "7/7 [==============================] - 4s 513ms/step - loss: 0.2665 - accuracy: 0.9050\n",
      "Epoch 10/10\n",
      "7/7 [==============================] - 4s 500ms/step - loss: 0.2724 - accuracy: 0.9225\n",
      "2/2 [==============================] - 2s 312ms/step\n"
     ]
    },
    {
     "name": "stderr",
     "output_type": "stream",
     "text": [
      "C:\\Users\\footr\\anaconda3\\Lib\\site-packages\\scikeras\\wrappers.py:915: UserWarning: ``build_fn`` will be renamed to ``model`` in a future release, at which point use of ``build_fn`` will raise an Error instead.\n",
      "  X, y = self._initialize(X, y)\n"
     ]
    },
    {
     "name": "stdout",
     "output_type": "stream",
     "text": [
      "Epoch 1/10\n",
      "7/7 [==============================] - 7s 483ms/step - loss: 1.6986 - accuracy: 0.4400\n",
      "Epoch 2/10\n",
      "7/7 [==============================] - 3s 459ms/step - loss: 1.0553 - accuracy: 0.7225\n",
      "Epoch 3/10\n",
      "7/7 [==============================] - 3s 451ms/step - loss: 0.6015 - accuracy: 0.7825\n",
      "Epoch 4/10\n",
      "7/7 [==============================] - 4s 508ms/step - loss: 0.4970 - accuracy: 0.8350\n",
      "Epoch 5/10\n",
      "7/7 [==============================] - 3s 488ms/step - loss: 0.4860 - accuracy: 0.8325\n",
      "Epoch 6/10\n",
      "7/7 [==============================] - 4s 585ms/step - loss: 0.3845 - accuracy: 0.8625\n",
      "Epoch 7/10\n",
      "7/7 [==============================] - 3s 469ms/step - loss: 0.2809 - accuracy: 0.9025\n",
      "Epoch 8/10\n",
      "7/7 [==============================] - 4s 548ms/step - loss: 0.2466 - accuracy: 0.9100\n",
      "Epoch 9/10\n",
      "7/7 [==============================] - 3s 458ms/step - loss: 0.2882 - accuracy: 0.9100\n",
      "Epoch 10/10\n",
      "7/7 [==============================] - 4s 531ms/step - loss: 0.1712 - accuracy: 0.9525\n",
      "2/2 [==============================] - 2s 298ms/step\n"
     ]
    },
    {
     "name": "stderr",
     "output_type": "stream",
     "text": [
      "C:\\Users\\footr\\anaconda3\\Lib\\site-packages\\scikeras\\wrappers.py:915: UserWarning: ``build_fn`` will be renamed to ``model`` in a future release, at which point use of ``build_fn`` will raise an Error instead.\n",
      "  X, y = self._initialize(X, y)\n"
     ]
    },
    {
     "name": "stdout",
     "output_type": "stream",
     "text": [
      "Epoch 1/10\n",
      "7/7 [==============================] - 7s 565ms/step - loss: 1.8374 - accuracy: 0.4450\n",
      "Epoch 2/10\n",
      "7/7 [==============================] - 4s 563ms/step - loss: 0.7719 - accuracy: 0.7125\n",
      "Epoch 3/10\n",
      "7/7 [==============================] - 4s 535ms/step - loss: 0.6184 - accuracy: 0.7975\n",
      "Epoch 4/10\n",
      "7/7 [==============================] - 3s 490ms/step - loss: 0.4718 - accuracy: 0.8300\n",
      "Epoch 5/10\n",
      "7/7 [==============================] - 3s 495ms/step - loss: 0.4166 - accuracy: 0.8450\n",
      "Epoch 6/10\n",
      "7/7 [==============================] - 3s 450ms/step - loss: 0.3676 - accuracy: 0.8500\n",
      "Epoch 7/10\n",
      "7/7 [==============================] - 4s 515ms/step - loss: 0.2754 - accuracy: 0.9150\n",
      "Epoch 8/10\n",
      "7/7 [==============================] - 3s 465ms/step - loss: 0.3044 - accuracy: 0.9100\n",
      "Epoch 9/10\n",
      "7/7 [==============================] - 4s 498ms/step - loss: 0.2605 - accuracy: 0.9175\n",
      "Epoch 10/10\n",
      "7/7 [==============================] - 4s 531ms/step - loss: 0.1921 - accuracy: 0.9325\n",
      "2/2 [==============================] - 2s 278ms/step\n"
     ]
    },
    {
     "name": "stderr",
     "output_type": "stream",
     "text": [
      "C:\\Users\\footr\\anaconda3\\Lib\\site-packages\\scikeras\\wrappers.py:915: UserWarning: ``build_fn`` will be renamed to ``model`` in a future release, at which point use of ``build_fn`` will raise an Error instead.\n",
      "  X, y = self._initialize(X, y)\n"
     ]
    },
    {
     "name": "stdout",
     "output_type": "stream",
     "text": [
      "Epoch 1/10\n",
      "7/7 [==============================] - 8s 598ms/step - loss: 2.3121 - accuracy: 0.3550\n",
      "Epoch 2/10\n",
      "7/7 [==============================] - 4s 604ms/step - loss: 1.1587 - accuracy: 0.6325\n",
      "Epoch 3/10\n",
      "7/7 [==============================] - 4s 578ms/step - loss: 0.8112 - accuracy: 0.7300\n",
      "Epoch 4/10\n",
      "7/7 [==============================] - 4s 521ms/step - loss: 0.6403 - accuracy: 0.7775\n",
      "Epoch 5/10\n",
      "7/7 [==============================] - 3s 496ms/step - loss: 0.5208 - accuracy: 0.8100\n",
      "Epoch 6/10\n",
      "7/7 [==============================] - 4s 485ms/step - loss: 0.4907 - accuracy: 0.8300\n",
      "Epoch 7/10\n",
      "7/7 [==============================] - 4s 488ms/step - loss: 0.4278 - accuracy: 0.8300\n",
      "Epoch 8/10\n",
      "7/7 [==============================] - 4s 516ms/step - loss: 0.3428 - accuracy: 0.8700\n",
      "Epoch 9/10\n",
      "7/7 [==============================] - 4s 505ms/step - loss: 0.3180 - accuracy: 0.8925\n",
      "Epoch 10/10\n",
      "7/7 [==============================] - 4s 576ms/step - loss: 0.3338 - accuracy: 0.8800\n",
      "2/2 [==============================] - 2s 298ms/step\n"
     ]
    },
    {
     "name": "stderr",
     "output_type": "stream",
     "text": [
      "C:\\Users\\footr\\anaconda3\\Lib\\site-packages\\scikeras\\wrappers.py:915: UserWarning: ``build_fn`` will be renamed to ``model`` in a future release, at which point use of ``build_fn`` will raise an Error instead.\n",
      "  X, y = self._initialize(X, y)\n"
     ]
    },
    {
     "name": "stdout",
     "output_type": "stream",
     "text": [
      "Epoch 1/10\n",
      "7/7 [==============================] - 7s 518ms/step - loss: 1.8839 - accuracy: 0.4275\n",
      "Epoch 2/10\n",
      "7/7 [==============================] - 4s 512ms/step - loss: 0.9809 - accuracy: 0.6900\n",
      "Epoch 3/10\n",
      "7/7 [==============================] - 4s 505ms/step - loss: 0.7157 - accuracy: 0.7500\n",
      "Epoch 4/10\n",
      "7/7 [==============================] - 4s 559ms/step - loss: 0.5878 - accuracy: 0.7975\n",
      "Epoch 5/10\n",
      "7/7 [==============================] - 3s 477ms/step - loss: 0.4223 - accuracy: 0.8650\n",
      "Epoch 6/10\n",
      "7/7 [==============================] - 4s 552ms/step - loss: 0.3640 - accuracy: 0.8725\n",
      "Epoch 7/10\n",
      "7/7 [==============================] - 4s 536ms/step - loss: 0.3385 - accuracy: 0.8875\n",
      "Epoch 8/10\n",
      "7/7 [==============================] - 4s 514ms/step - loss: 0.3752 - accuracy: 0.8750\n",
      "Epoch 9/10\n",
      "7/7 [==============================] - 4s 502ms/step - loss: 0.2972 - accuracy: 0.8900\n",
      "Epoch 10/10\n",
      "7/7 [==============================] - 4s 505ms/step - loss: 0.2305 - accuracy: 0.9275\n",
      "2/2 [==============================] - 2s 255ms/step\n"
     ]
    },
    {
     "name": "stderr",
     "output_type": "stream",
     "text": [
      "C:\\Users\\footr\\anaconda3\\Lib\\site-packages\\scikeras\\wrappers.py:915: UserWarning: ``build_fn`` will be renamed to ``model`` in a future release, at which point use of ``build_fn`` will raise an Error instead.\n",
      "  X, y = self._initialize(X, y)\n"
     ]
    },
    {
     "name": "stdout",
     "output_type": "stream",
     "text": [
      "Epoch 1/10\n",
      "7/7 [==============================] - 8s 602ms/step - loss: 1.5652 - accuracy: 0.4750\n",
      "Epoch 2/10\n",
      "7/7 [==============================] - 4s 560ms/step - loss: 0.7584 - accuracy: 0.7300\n",
      "Epoch 3/10\n",
      "7/7 [==============================] - 4s 513ms/step - loss: 0.6858 - accuracy: 0.7975\n",
      "Epoch 4/10\n",
      "7/7 [==============================] - 4s 568ms/step - loss: 0.5952 - accuracy: 0.7925\n",
      "Epoch 5/10\n",
      "7/7 [==============================] - 4s 534ms/step - loss: 0.4003 - accuracy: 0.8675\n",
      "Epoch 6/10\n",
      "7/7 [==============================] - 4s 505ms/step - loss: 0.3881 - accuracy: 0.8750\n",
      "Epoch 7/10\n",
      "7/7 [==============================] - 3s 471ms/step - loss: 0.2837 - accuracy: 0.9075\n",
      "Epoch 8/10\n",
      "7/7 [==============================] - 3s 483ms/step - loss: 0.2954 - accuracy: 0.8975\n",
      "Epoch 9/10\n",
      "7/7 [==============================] - 4s 499ms/step - loss: 0.2440 - accuracy: 0.9050\n",
      "Epoch 10/10\n",
      "7/7 [==============================] - 3s 484ms/step - loss: 0.2782 - accuracy: 0.9150\n",
      "2/2 [==============================] - 2s 284ms/step\n"
     ]
    },
    {
     "name": "stderr",
     "output_type": "stream",
     "text": [
      "C:\\Users\\footr\\anaconda3\\Lib\\site-packages\\scikeras\\wrappers.py:915: UserWarning: ``build_fn`` will be renamed to ``model`` in a future release, at which point use of ``build_fn`` will raise an Error instead.\n",
      "  X, y = self._initialize(X, y)\n"
     ]
    },
    {
     "name": "stdout",
     "output_type": "stream",
     "text": [
      "Epoch 1/10\n",
      "7/7 [==============================] - 7s 469ms/step - loss: 2.1614 - accuracy: 0.3875\n",
      "Epoch 2/10\n",
      "7/7 [==============================] - 4s 510ms/step - loss: 1.0758 - accuracy: 0.7000\n",
      "Epoch 3/10\n",
      "7/7 [==============================] - 3s 499ms/step - loss: 0.8580 - accuracy: 0.7225\n",
      "Epoch 4/10\n",
      "7/7 [==============================] - 3s 493ms/step - loss: 0.6190 - accuracy: 0.7900\n",
      "Epoch 5/10\n",
      "7/7 [==============================] - 3s 472ms/step - loss: 0.5242 - accuracy: 0.8100\n",
      "Epoch 6/10\n",
      "7/7 [==============================] - 3s 474ms/step - loss: 0.4147 - accuracy: 0.8500\n",
      "Epoch 7/10\n",
      "7/7 [==============================] - 4s 514ms/step - loss: 0.2980 - accuracy: 0.9075\n",
      "Epoch 8/10\n",
      "7/7 [==============================] - 3s 489ms/step - loss: 0.3395 - accuracy: 0.8875\n",
      "Epoch 9/10\n",
      "7/7 [==============================] - 3s 475ms/step - loss: 0.2551 - accuracy: 0.9200\n",
      "Epoch 10/10\n",
      "7/7 [==============================] - 3s 459ms/step - loss: 0.2777 - accuracy: 0.9100\n",
      "2/2 [==============================] - 2s 285ms/step\n"
     ]
    },
    {
     "name": "stderr",
     "output_type": "stream",
     "text": [
      "C:\\Users\\footr\\anaconda3\\Lib\\site-packages\\scikeras\\wrappers.py:915: UserWarning: ``build_fn`` will be renamed to ``model`` in a future release, at which point use of ``build_fn`` will raise an Error instead.\n",
      "  X, y = self._initialize(X, y)\n"
     ]
    },
    {
     "name": "stdout",
     "output_type": "stream",
     "text": [
      "Epoch 1/10\n",
      "7/7 [==============================] - 7s 475ms/step - loss: 1.7724 - accuracy: 0.4425\n",
      "Epoch 2/10\n",
      "7/7 [==============================] - 3s 467ms/step - loss: 0.8163 - accuracy: 0.7425\n",
      "Epoch 3/10\n",
      "7/7 [==============================] - 3s 452ms/step - loss: 0.6615 - accuracy: 0.7825\n",
      "Epoch 4/10\n",
      "7/7 [==============================] - 3s 489ms/step - loss: 0.4237 - accuracy: 0.8600\n",
      "Epoch 5/10\n",
      "7/7 [==============================] - 3s 498ms/step - loss: 0.3287 - accuracy: 0.9000\n",
      "Epoch 6/10\n",
      "7/7 [==============================] - 4s 520ms/step - loss: 0.3510 - accuracy: 0.8900\n",
      "Epoch 7/10\n",
      "7/7 [==============================] - 4s 499ms/step - loss: 0.3012 - accuracy: 0.9175\n",
      "Epoch 8/10\n",
      "7/7 [==============================] - 3s 467ms/step - loss: 0.2437 - accuracy: 0.9100\n",
      "Epoch 9/10\n",
      "7/7 [==============================] - 4s 509ms/step - loss: 0.2069 - accuracy: 0.9175\n",
      "Epoch 10/10\n",
      "7/7 [==============================] - 4s 532ms/step - loss: 0.2367 - accuracy: 0.9275\n",
      "2/2 [==============================] - 2s 275ms/step\n"
     ]
    },
    {
     "name": "stderr",
     "output_type": "stream",
     "text": [
      "C:\\Users\\footr\\anaconda3\\Lib\\site-packages\\scikeras\\wrappers.py:915: UserWarning: ``build_fn`` will be renamed to ``model`` in a future release, at which point use of ``build_fn`` will raise an Error instead.\n",
      "  X, y = self._initialize(X, y)\n"
     ]
    },
    {
     "name": "stdout",
     "output_type": "stream",
     "text": [
      "Epoch 1/10\n",
      "7/7 [==============================] - 7s 534ms/step - loss: 1.8748 - accuracy: 0.4275\n",
      "Epoch 2/10\n",
      "7/7 [==============================] - 4s 529ms/step - loss: 1.0156 - accuracy: 0.6900\n",
      "Epoch 3/10\n",
      "7/7 [==============================] - 4s 549ms/step - loss: 0.6754 - accuracy: 0.7750\n",
      "Epoch 4/10\n",
      "7/7 [==============================] - 4s 531ms/step - loss: 0.5955 - accuracy: 0.7800\n",
      "Epoch 5/10\n",
      "7/7 [==============================] - 3s 489ms/step - loss: 0.5295 - accuracy: 0.8150\n",
      "Epoch 6/10\n",
      "7/7 [==============================] - 4s 542ms/step - loss: 0.3592 - accuracy: 0.8675\n",
      "Epoch 7/10\n",
      "7/7 [==============================] - 4s 543ms/step - loss: 0.3512 - accuracy: 0.8925\n",
      "Epoch 8/10\n",
      "7/7 [==============================] - 4s 534ms/step - loss: 0.3429 - accuracy: 0.8875\n",
      "Epoch 9/10\n",
      "7/7 [==============================] - 3s 459ms/step - loss: 0.3133 - accuracy: 0.9125\n",
      "Epoch 10/10\n",
      "7/7 [==============================] - 4s 503ms/step - loss: 0.2652 - accuracy: 0.9125\n",
      "2/2 [==============================] - 2s 268ms/step\n"
     ]
    },
    {
     "name": "stderr",
     "output_type": "stream",
     "text": [
      "C:\\Users\\footr\\anaconda3\\Lib\\site-packages\\scikeras\\wrappers.py:915: UserWarning: ``build_fn`` will be renamed to ``model`` in a future release, at which point use of ``build_fn`` will raise an Error instead.\n",
      "  X, y = self._initialize(X, y)\n"
     ]
    },
    {
     "name": "stdout",
     "output_type": "stream",
     "text": [
      "Epoch 1/10\n",
      "7/7 [==============================] - 7s 516ms/step - loss: 1.9569 - accuracy: 0.4475\n",
      "Epoch 2/10\n",
      "7/7 [==============================] - 4s 549ms/step - loss: 0.9764 - accuracy: 0.7050\n",
      "Epoch 3/10\n",
      "7/7 [==============================] - 4s 530ms/step - loss: 0.5610 - accuracy: 0.8300\n",
      "Epoch 4/10\n",
      "7/7 [==============================] - 4s 556ms/step - loss: 0.5207 - accuracy: 0.8325\n",
      "Epoch 5/10\n",
      "7/7 [==============================] - 4s 580ms/step - loss: 0.4170 - accuracy: 0.8425\n",
      "Epoch 6/10\n",
      "7/7 [==============================] - 4s 504ms/step - loss: 0.4018 - accuracy: 0.8600\n",
      "Epoch 7/10\n",
      "7/7 [==============================] - 4s 515ms/step - loss: 0.3762 - accuracy: 0.8725\n",
      "Epoch 8/10\n",
      "7/7 [==============================] - 4s 535ms/step - loss: 0.3603 - accuracy: 0.8850\n",
      "Epoch 9/10\n",
      "7/7 [==============================] - 4s 524ms/step - loss: 0.2312 - accuracy: 0.9275\n",
      "Epoch 10/10\n",
      "7/7 [==============================] - 3s 472ms/step - loss: 0.1881 - accuracy: 0.9450\n",
      "2/2 [==============================] - 2s 286ms/step\n"
     ]
    },
    {
     "name": "stderr",
     "output_type": "stream",
     "text": [
      "C:\\Users\\footr\\anaconda3\\Lib\\site-packages\\scikeras\\wrappers.py:915: UserWarning: ``build_fn`` will be renamed to ``model`` in a future release, at which point use of ``build_fn`` will raise an Error instead.\n",
      "  X, y = self._initialize(X, y)\n"
     ]
    },
    {
     "name": "stdout",
     "output_type": "stream",
     "text": [
      "Epoch 1/10\n",
      "7/7 [==============================] - 8s 658ms/step - loss: 2.0525 - accuracy: 0.4600\n",
      "Epoch 2/10\n",
      "7/7 [==============================] - 4s 572ms/step - loss: 1.0255 - accuracy: 0.7600\n",
      "Epoch 3/10\n",
      "7/7 [==============================] - 5s 679ms/step - loss: 0.7032 - accuracy: 0.8125\n",
      "Epoch 4/10\n",
      "7/7 [==============================] - 5s 639ms/step - loss: 0.4395 - accuracy: 0.8575\n",
      "Epoch 5/10\n",
      "7/7 [==============================] - 4s 622ms/step - loss: 0.4003 - accuracy: 0.8725\n",
      "Epoch 6/10\n",
      "7/7 [==============================] - 4s 510ms/step - loss: 0.4859 - accuracy: 0.8750\n",
      "Epoch 7/10\n",
      "7/7 [==============================] - 4s 563ms/step - loss: 0.2925 - accuracy: 0.9050\n",
      "Epoch 8/10\n",
      "7/7 [==============================] - 4s 530ms/step - loss: 0.2612 - accuracy: 0.9125\n",
      "Epoch 9/10\n",
      "7/7 [==============================] - 4s 523ms/step - loss: 0.2636 - accuracy: 0.9225\n",
      "Epoch 10/10\n",
      "7/7 [==============================] - 4s 489ms/step - loss: 0.2281 - accuracy: 0.9250\n",
      "2/2 [==============================] - 2s 285ms/step\n"
     ]
    },
    {
     "name": "stderr",
     "output_type": "stream",
     "text": [
      "C:\\Users\\footr\\anaconda3\\Lib\\site-packages\\scikeras\\wrappers.py:915: UserWarning: ``build_fn`` will be renamed to ``model`` in a future release, at which point use of ``build_fn`` will raise an Error instead.\n",
      "  X, y = self._initialize(X, y)\n"
     ]
    },
    {
     "name": "stdout",
     "output_type": "stream",
     "text": [
      "Epoch 1/10\n",
      "7/7 [==============================] - 8s 661ms/step - loss: 2.1251 - accuracy: 0.4575\n",
      "Epoch 2/10\n",
      "7/7 [==============================] - 4s 501ms/step - loss: 1.0489 - accuracy: 0.7500\n",
      "Epoch 3/10\n",
      "7/7 [==============================] - 4s 519ms/step - loss: 0.7263 - accuracy: 0.7600\n",
      "Epoch 4/10\n",
      "7/7 [==============================] - 4s 502ms/step - loss: 0.5017 - accuracy: 0.8550\n",
      "Epoch 5/10\n",
      "7/7 [==============================] - 4s 498ms/step - loss: 0.4526 - accuracy: 0.8425\n",
      "Epoch 6/10\n",
      "7/7 [==============================] - 4s 496ms/step - loss: 0.3278 - accuracy: 0.9000\n",
      "Epoch 7/10\n",
      "7/7 [==============================] - 4s 530ms/step - loss: 0.3321 - accuracy: 0.8800\n",
      "Epoch 8/10\n",
      "7/7 [==============================] - 4s 550ms/step - loss: 0.2224 - accuracy: 0.9275\n",
      "Epoch 9/10\n",
      "7/7 [==============================] - 4s 527ms/step - loss: 0.2087 - accuracy: 0.9425\n",
      "Epoch 10/10\n",
      "7/7 [==============================] - 4s 527ms/step - loss: 0.1745 - accuracy: 0.9425\n",
      "2/2 [==============================] - 2s 313ms/step\n"
     ]
    },
    {
     "name": "stderr",
     "output_type": "stream",
     "text": [
      "C:\\Users\\footr\\anaconda3\\Lib\\site-packages\\scikeras\\wrappers.py:915: UserWarning: ``build_fn`` will be renamed to ``model`` in a future release, at which point use of ``build_fn`` will raise an Error instead.\n",
      "  X, y = self._initialize(X, y)\n"
     ]
    },
    {
     "name": "stdout",
     "output_type": "stream",
     "text": [
      "Epoch 1/10\n",
      "7/7 [==============================] - 7s 487ms/step - loss: 1.9405 - accuracy: 0.4875\n",
      "Epoch 2/10\n",
      "7/7 [==============================] - 3s 479ms/step - loss: 0.7795 - accuracy: 0.8100\n",
      "Epoch 3/10\n",
      "7/7 [==============================] - 3s 472ms/step - loss: 0.5989 - accuracy: 0.8400\n",
      "Epoch 4/10\n",
      "7/7 [==============================] - 4s 489ms/step - loss: 0.4072 - accuracy: 0.8725\n",
      "Epoch 5/10\n",
      "7/7 [==============================] - 3s 473ms/step - loss: 0.2841 - accuracy: 0.9150\n",
      "Epoch 6/10\n",
      "7/7 [==============================] - 3s 477ms/step - loss: 0.2553 - accuracy: 0.9150\n",
      "Epoch 7/10\n",
      "7/7 [==============================] - 3s 484ms/step - loss: 0.2193 - accuracy: 0.9375\n",
      "Epoch 8/10\n",
      "7/7 [==============================] - 3s 476ms/step - loss: 0.1455 - accuracy: 0.9500\n",
      "Epoch 9/10\n",
      "7/7 [==============================] - 4s 477ms/step - loss: 0.1173 - accuracy: 0.9550\n",
      "Epoch 10/10\n",
      "7/7 [==============================] - 4s 513ms/step - loss: 0.1118 - accuracy: 0.9650\n",
      "2/2 [==============================] - 2s 255ms/step\n"
     ]
    },
    {
     "name": "stderr",
     "output_type": "stream",
     "text": [
      "C:\\Users\\footr\\anaconda3\\Lib\\site-packages\\scikeras\\wrappers.py:915: UserWarning: ``build_fn`` will be renamed to ``model`` in a future release, at which point use of ``build_fn`` will raise an Error instead.\n",
      "  X, y = self._initialize(X, y)\n"
     ]
    },
    {
     "name": "stdout",
     "output_type": "stream",
     "text": [
      "Epoch 1/10\n",
      "7/7 [==============================] - 7s 504ms/step - loss: 2.0524 - accuracy: 0.4425\n",
      "Epoch 2/10\n",
      "7/7 [==============================] - 3s 456ms/step - loss: 0.9873 - accuracy: 0.7125\n",
      "Epoch 3/10\n",
      "7/7 [==============================] - 3s 471ms/step - loss: 0.7031 - accuracy: 0.7775\n",
      "Epoch 4/10\n",
      "7/7 [==============================] - 3s 479ms/step - loss: 0.5262 - accuracy: 0.8200\n",
      "Epoch 5/10\n",
      "7/7 [==============================] - 3s 458ms/step - loss: 0.4625 - accuracy: 0.8575\n",
      "Epoch 6/10\n",
      "7/7 [==============================] - 3s 484ms/step - loss: 0.3320 - accuracy: 0.9000\n",
      "Epoch 7/10\n",
      "7/7 [==============================] - 3s 499ms/step - loss: 0.2360 - accuracy: 0.9175\n",
      "Epoch 8/10\n",
      "7/7 [==============================] - 4s 496ms/step - loss: 0.2272 - accuracy: 0.9350\n",
      "Epoch 9/10\n",
      "7/7 [==============================] - 3s 485ms/step - loss: 0.2673 - accuracy: 0.9100\n",
      "Epoch 10/10\n",
      "7/7 [==============================] - 3s 457ms/step - loss: 0.1728 - accuracy: 0.9450\n",
      "2/2 [==============================] - 2s 292ms/step\n"
     ]
    },
    {
     "name": "stderr",
     "output_type": "stream",
     "text": [
      "C:\\Users\\footr\\anaconda3\\Lib\\site-packages\\scikeras\\wrappers.py:915: UserWarning: ``build_fn`` will be renamed to ``model`` in a future release, at which point use of ``build_fn`` will raise an Error instead.\n",
      "  X, y = self._initialize(X, y)\n"
     ]
    },
    {
     "name": "stdout",
     "output_type": "stream",
     "text": [
      "Epoch 1/10\n",
      "7/7 [==============================] - 8s 531ms/step - loss: 1.4239 - accuracy: 0.5175\n",
      "Epoch 2/10\n",
      "7/7 [==============================] - 4s 508ms/step - loss: 0.8934 - accuracy: 0.7750\n",
      "Epoch 3/10\n",
      "7/7 [==============================] - 3s 481ms/step - loss: 0.6867 - accuracy: 0.8175\n",
      "Epoch 4/10\n",
      "7/7 [==============================] - 4s 494ms/step - loss: 0.6871 - accuracy: 0.8450\n",
      "Epoch 5/10\n",
      "7/7 [==============================] - 3s 488ms/step - loss: 0.4144 - accuracy: 0.8875\n",
      "Epoch 6/10\n",
      "7/7 [==============================] - 3s 479ms/step - loss: 0.3319 - accuracy: 0.9000\n",
      "Epoch 7/10\n",
      "7/7 [==============================] - 3s 478ms/step - loss: 0.2617 - accuracy: 0.9150\n",
      "Epoch 8/10\n",
      "7/7 [==============================] - 3s 465ms/step - loss: 0.2129 - accuracy: 0.9400\n",
      "Epoch 9/10\n",
      "7/7 [==============================] - 4s 489ms/step - loss: 0.1274 - accuracy: 0.9600\n",
      "Epoch 10/10\n",
      "7/7 [==============================] - 3s 482ms/step - loss: 0.1512 - accuracy: 0.9500\n",
      "2/2 [==============================] - 2s 274ms/step\n"
     ]
    },
    {
     "name": "stderr",
     "output_type": "stream",
     "text": [
      "C:\\Users\\footr\\anaconda3\\Lib\\site-packages\\scikeras\\wrappers.py:915: UserWarning: ``build_fn`` will be renamed to ``model`` in a future release, at which point use of ``build_fn`` will raise an Error instead.\n",
      "  X, y = self._initialize(X, y)\n"
     ]
    },
    {
     "name": "stdout",
     "output_type": "stream",
     "text": [
      "Epoch 1/10\n",
      "7/7 [==============================] - 7s 514ms/step - loss: 2.2354 - accuracy: 0.4850\n",
      "Epoch 2/10\n",
      "7/7 [==============================] - 4s 518ms/step - loss: 0.9924 - accuracy: 0.7350\n",
      "Epoch 3/10\n",
      "7/7 [==============================] - 4s 504ms/step - loss: 0.6729 - accuracy: 0.8150\n",
      "Epoch 4/10\n",
      "7/7 [==============================] - 3s 473ms/step - loss: 0.5844 - accuracy: 0.8550\n",
      "Epoch 5/10\n",
      "7/7 [==============================] - 3s 467ms/step - loss: 0.3837 - accuracy: 0.8825\n",
      "Epoch 6/10\n",
      "7/7 [==============================] - 3s 487ms/step - loss: 0.2887 - accuracy: 0.8925\n",
      "Epoch 7/10\n",
      "7/7 [==============================] - 3s 494ms/step - loss: 0.2463 - accuracy: 0.9150\n",
      "Epoch 8/10\n",
      "7/7 [==============================] - 3s 462ms/step - loss: 0.1940 - accuracy: 0.9425\n",
      "Epoch 9/10\n",
      "7/7 [==============================] - 4s 467ms/step - loss: 0.1748 - accuracy: 0.9550\n",
      "Epoch 10/10\n",
      "7/7 [==============================] - 4s 489ms/step - loss: 0.1035 - accuracy: 0.9675\n",
      "2/2 [==============================] - 2s 298ms/step\n"
     ]
    },
    {
     "name": "stderr",
     "output_type": "stream",
     "text": [
      "C:\\Users\\footr\\anaconda3\\Lib\\site-packages\\scikeras\\wrappers.py:915: UserWarning: ``build_fn`` will be renamed to ``model`` in a future release, at which point use of ``build_fn`` will raise an Error instead.\n",
      "  X, y = self._initialize(X, y)\n"
     ]
    },
    {
     "name": "stdout",
     "output_type": "stream",
     "text": [
      "Epoch 1/10\n",
      "7/7 [==============================] - 7s 496ms/step - loss: 1.8201 - accuracy: 0.4925\n",
      "Epoch 2/10\n",
      "7/7 [==============================] - 3s 460ms/step - loss: 0.9856 - accuracy: 0.7275\n",
      "Epoch 3/10\n",
      "7/7 [==============================] - 3s 467ms/step - loss: 0.8467 - accuracy: 0.7800\n",
      "Epoch 4/10\n",
      "7/7 [==============================] - 3s 462ms/step - loss: 0.8283 - accuracy: 0.7850\n",
      "Epoch 5/10\n",
      "7/7 [==============================] - 3s 489ms/step - loss: 0.5566 - accuracy: 0.8550\n",
      "Epoch 6/10\n",
      "7/7 [==============================] - 4s 483ms/step - loss: 0.4362 - accuracy: 0.8725\n",
      "Epoch 7/10\n",
      "7/7 [==============================] - 4s 514ms/step - loss: 0.3488 - accuracy: 0.8825\n",
      "Epoch 8/10\n",
      "7/7 [==============================] - 3s 466ms/step - loss: 0.2874 - accuracy: 0.9175\n",
      "Epoch 9/10\n",
      "7/7 [==============================] - 3s 460ms/step - loss: 0.2126 - accuracy: 0.9300\n",
      "Epoch 10/10\n",
      "7/7 [==============================] - 4s 484ms/step - loss: 0.2329 - accuracy: 0.9400\n",
      "2/2 [==============================] - 2s 307ms/step\n"
     ]
    },
    {
     "name": "stderr",
     "output_type": "stream",
     "text": [
      "C:\\Users\\footr\\anaconda3\\Lib\\site-packages\\scikeras\\wrappers.py:915: UserWarning: ``build_fn`` will be renamed to ``model`` in a future release, at which point use of ``build_fn`` will raise an Error instead.\n",
      "  X, y = self._initialize(X, y)\n"
     ]
    },
    {
     "name": "stdout",
     "output_type": "stream",
     "text": [
      "Epoch 1/10\n",
      "7/7 [==============================] - 7s 493ms/step - loss: 1.6579 - accuracy: 0.5200\n",
      "Epoch 2/10\n",
      "7/7 [==============================] - 4s 553ms/step - loss: 1.0196 - accuracy: 0.7800\n",
      "Epoch 3/10\n",
      "7/7 [==============================] - 4s 521ms/step - loss: 0.4889 - accuracy: 0.8750\n",
      "Epoch 4/10\n",
      "7/7 [==============================] - 4s 544ms/step - loss: 0.6038 - accuracy: 0.8325\n",
      "Epoch 5/10\n",
      "7/7 [==============================] - 3s 486ms/step - loss: 0.6512 - accuracy: 0.8625\n",
      "Epoch 6/10\n",
      "7/7 [==============================] - 3s 486ms/step - loss: 0.4173 - accuracy: 0.8925\n",
      "Epoch 7/10\n",
      "7/7 [==============================] - 3s 475ms/step - loss: 0.3672 - accuracy: 0.9150\n",
      "Epoch 8/10\n",
      "7/7 [==============================] - 3s 471ms/step - loss: 0.2765 - accuracy: 0.9175\n",
      "Epoch 9/10\n",
      "7/7 [==============================] - 4s 496ms/step - loss: 0.2264 - accuracy: 0.9425\n",
      "Epoch 10/10\n",
      "7/7 [==============================] - 4s 506ms/step - loss: 0.2443 - accuracy: 0.9275\n",
      "2/2 [==============================] - 2s 282ms/step\n"
     ]
    },
    {
     "name": "stderr",
     "output_type": "stream",
     "text": [
      "C:\\Users\\footr\\anaconda3\\Lib\\site-packages\\scikeras\\wrappers.py:915: UserWarning: ``build_fn`` will be renamed to ``model`` in a future release, at which point use of ``build_fn`` will raise an Error instead.\n",
      "  X, y = self._initialize(X, y)\n"
     ]
    },
    {
     "name": "stdout",
     "output_type": "stream",
     "text": [
      "Epoch 1/10\n",
      "7/7 [==============================] - 7s 547ms/step - loss: 1.5732 - accuracy: 0.5675\n",
      "Epoch 2/10\n",
      "7/7 [==============================] - 4s 588ms/step - loss: 0.9891 - accuracy: 0.7650\n",
      "Epoch 3/10\n",
      "7/7 [==============================] - 4s 589ms/step - loss: 1.0808 - accuracy: 0.7700\n",
      "Epoch 4/10\n",
      "7/7 [==============================] - 4s 607ms/step - loss: 0.4766 - accuracy: 0.8525\n",
      "Epoch 5/10\n",
      "7/7 [==============================] - 4s 525ms/step - loss: 0.4311 - accuracy: 0.8725\n",
      "Epoch 6/10\n",
      "7/7 [==============================] - 4s 507ms/step - loss: 0.3167 - accuracy: 0.8975\n",
      "Epoch 7/10\n",
      "7/7 [==============================] - 4s 573ms/step - loss: 0.2816 - accuracy: 0.9200\n",
      "Epoch 8/10\n",
      "7/7 [==============================] - 4s 596ms/step - loss: 0.2281 - accuracy: 0.9225\n",
      "Epoch 9/10\n",
      "7/7 [==============================] - 4s 523ms/step - loss: 0.2764 - accuracy: 0.9225\n",
      "Epoch 10/10\n",
      "7/7 [==============================] - 4s 598ms/step - loss: 0.1677 - accuracy: 0.9375\n",
      "2/2 [==============================] - 2s 304ms/step\n"
     ]
    },
    {
     "name": "stderr",
     "output_type": "stream",
     "text": [
      "C:\\Users\\footr\\anaconda3\\Lib\\site-packages\\scikeras\\wrappers.py:915: UserWarning: ``build_fn`` will be renamed to ``model`` in a future release, at which point use of ``build_fn`` will raise an Error instead.\n",
      "  X, y = self._initialize(X, y)\n"
     ]
    },
    {
     "name": "stdout",
     "output_type": "stream",
     "text": [
      "Epoch 1/10\n",
      "7/7 [==============================] - 8s 554ms/step - loss: 1.5155 - accuracy: 0.5325\n",
      "Epoch 2/10\n",
      "7/7 [==============================] - 4s 571ms/step - loss: 0.7666 - accuracy: 0.8100\n",
      "Epoch 3/10\n",
      "7/7 [==============================] - 4s 586ms/step - loss: 0.8171 - accuracy: 0.8075\n",
      "Epoch 4/10\n",
      "7/7 [==============================] - 4s 585ms/step - loss: 0.5857 - accuracy: 0.8500\n",
      "Epoch 5/10\n",
      "7/7 [==============================] - 4s 528ms/step - loss: 0.4045 - accuracy: 0.9050\n",
      "Epoch 6/10\n",
      "7/7 [==============================] - 4s 512ms/step - loss: 0.4220 - accuracy: 0.8950\n",
      "Epoch 7/10\n",
      "7/7 [==============================] - 4s 521ms/step - loss: 0.2832 - accuracy: 0.9250\n",
      "Epoch 8/10\n",
      "7/7 [==============================] - 4s 535ms/step - loss: 0.2050 - accuracy: 0.9300\n",
      "Epoch 9/10\n",
      "7/7 [==============================] - 4s 549ms/step - loss: 0.2276 - accuracy: 0.9150\n",
      "Epoch 10/10\n",
      "7/7 [==============================] - 4s 522ms/step - loss: 0.1150 - accuracy: 0.9600\n",
      "2/2 [==============================] - 2s 312ms/step\n"
     ]
    },
    {
     "name": "stderr",
     "output_type": "stream",
     "text": [
      "C:\\Users\\footr\\anaconda3\\Lib\\site-packages\\scikeras\\wrappers.py:915: UserWarning: ``build_fn`` will be renamed to ``model`` in a future release, at which point use of ``build_fn`` will raise an Error instead.\n",
      "  X, y = self._initialize(X, y)\n"
     ]
    },
    {
     "name": "stdout",
     "output_type": "stream",
     "text": [
      "Epoch 1/10\n",
      "7/7 [==============================] - 7s 534ms/step - loss: 2.0136 - accuracy: 0.4550\n",
      "Epoch 2/10\n",
      "7/7 [==============================] - 4s 495ms/step - loss: 1.0566 - accuracy: 0.7625\n",
      "Epoch 3/10\n",
      "7/7 [==============================] - 4s 541ms/step - loss: 0.8194 - accuracy: 0.7675\n",
      "Epoch 4/10\n",
      "7/7 [==============================] - 4s 504ms/step - loss: 0.5249 - accuracy: 0.8550\n",
      "Epoch 5/10\n",
      "7/7 [==============================] - 4s 513ms/step - loss: 0.3040 - accuracy: 0.8950\n",
      "Epoch 6/10\n",
      "7/7 [==============================] - 4s 504ms/step - loss: 0.3099 - accuracy: 0.8975\n",
      "Epoch 7/10\n",
      "7/7 [==============================] - 4s 518ms/step - loss: 0.2310 - accuracy: 0.9225\n",
      "Epoch 8/10\n",
      "7/7 [==============================] - 4s 523ms/step - loss: 0.1557 - accuracy: 0.9550\n",
      "Epoch 9/10\n",
      "7/7 [==============================] - 4s 534ms/step - loss: 0.2017 - accuracy: 0.9425\n",
      "Epoch 10/10\n",
      "7/7 [==============================] - 4s 526ms/step - loss: 0.1050 - accuracy: 0.9750\n",
      "2/2 [==============================] - 2s 321ms/step\n"
     ]
    },
    {
     "name": "stderr",
     "output_type": "stream",
     "text": [
      "C:\\Users\\footr\\anaconda3\\Lib\\site-packages\\scikeras\\wrappers.py:915: UserWarning: ``build_fn`` will be renamed to ``model`` in a future release, at which point use of ``build_fn`` will raise an Error instead.\n",
      "  X, y = self._initialize(X, y)\n"
     ]
    },
    {
     "name": "stdout",
     "output_type": "stream",
     "text": [
      "Epoch 1/10\n",
      "7/7 [==============================] - 8s 511ms/step - loss: 2.2371 - accuracy: 0.4300\n",
      "Epoch 2/10\n",
      "7/7 [==============================] - 4s 538ms/step - loss: 1.0406 - accuracy: 0.7150\n",
      "Epoch 3/10\n",
      "7/7 [==============================] - 4s 558ms/step - loss: 0.7332 - accuracy: 0.7925\n",
      "Epoch 4/10\n",
      "7/7 [==============================] - 4s 507ms/step - loss: 0.5084 - accuracy: 0.8500\n",
      "Epoch 5/10\n",
      "7/7 [==============================] - 3s 489ms/step - loss: 0.3502 - accuracy: 0.8825\n",
      "Epoch 6/10\n",
      "7/7 [==============================] - 4s 512ms/step - loss: 0.4371 - accuracy: 0.8550\n",
      "Epoch 7/10\n",
      "7/7 [==============================] - 4s 519ms/step - loss: 0.3096 - accuracy: 0.8825\n",
      "Epoch 8/10\n",
      "7/7 [==============================] - 4s 543ms/step - loss: 0.2382 - accuracy: 0.9125\n",
      "Epoch 9/10\n",
      "7/7 [==============================] - 4s 545ms/step - loss: 0.1922 - accuracy: 0.9450\n",
      "Epoch 10/10\n",
      "7/7 [==============================] - 4s 510ms/step - loss: 0.1694 - accuracy: 0.9500\n",
      "2/2 [==============================] - 2s 295ms/step\n"
     ]
    },
    {
     "name": "stderr",
     "output_type": "stream",
     "text": [
      "C:\\Users\\footr\\anaconda3\\Lib\\site-packages\\scikeras\\wrappers.py:915: UserWarning: ``build_fn`` will be renamed to ``model`` in a future release, at which point use of ``build_fn`` will raise an Error instead.\n",
      "  X, y = self._initialize(X, y)\n"
     ]
    },
    {
     "name": "stdout",
     "output_type": "stream",
     "text": [
      "Epoch 1/10\n",
      "7/7 [==============================] - 7s 540ms/step - loss: 1.5741 - accuracy: 0.5325\n",
      "Epoch 2/10\n",
      "7/7 [==============================] - 3s 483ms/step - loss: 0.7601 - accuracy: 0.7750\n",
      "Epoch 3/10\n",
      "7/7 [==============================] - 3s 484ms/step - loss: 0.6580 - accuracy: 0.8275\n",
      "Epoch 4/10\n",
      "7/7 [==============================] - 3s 473ms/step - loss: 0.6423 - accuracy: 0.8650\n",
      "Epoch 5/10\n",
      "7/7 [==============================] - 4s 519ms/step - loss: 0.3536 - accuracy: 0.9125\n",
      "Epoch 6/10\n",
      "7/7 [==============================] - 4s 505ms/step - loss: 0.2626 - accuracy: 0.9300\n",
      "Epoch 7/10\n",
      "7/7 [==============================] - 4s 499ms/step - loss: 0.2101 - accuracy: 0.9275\n",
      "Epoch 8/10\n",
      "7/7 [==============================] - 4s 501ms/step - loss: 0.1758 - accuracy: 0.9450\n",
      "Epoch 9/10\n",
      "7/7 [==============================] - 4s 589ms/step - loss: 0.2056 - accuracy: 0.9350\n",
      "Epoch 10/10\n",
      "7/7 [==============================] - 4s 508ms/step - loss: 0.1875 - accuracy: 0.9375\n",
      "2/2 [==============================] - 2s 299ms/step\n"
     ]
    },
    {
     "name": "stderr",
     "output_type": "stream",
     "text": [
      "C:\\Users\\footr\\anaconda3\\Lib\\site-packages\\scikeras\\wrappers.py:915: UserWarning: ``build_fn`` will be renamed to ``model`` in a future release, at which point use of ``build_fn`` will raise an Error instead.\n",
      "  X, y = self._initialize(X, y)\n"
     ]
    },
    {
     "name": "stdout",
     "output_type": "stream",
     "text": [
      "Epoch 1/10\n",
      "7/7 [==============================] - 7s 487ms/step - loss: 1.8929 - accuracy: 0.4225\n",
      "Epoch 2/10\n",
      "7/7 [==============================] - 4s 535ms/step - loss: 0.8760 - accuracy: 0.7425\n",
      "Epoch 3/10\n",
      "7/7 [==============================] - 4s 536ms/step - loss: 0.7448 - accuracy: 0.8150\n",
      "Epoch 4/10\n",
      "7/7 [==============================] - 4s 586ms/step - loss: 0.5163 - accuracy: 0.8475\n",
      "Epoch 5/10\n",
      "7/7 [==============================] - 4s 574ms/step - loss: 0.4924 - accuracy: 0.8375\n",
      "Epoch 6/10\n",
      "7/7 [==============================] - 4s 562ms/step - loss: 0.3716 - accuracy: 0.8725\n",
      "Epoch 7/10\n",
      "7/7 [==============================] - 4s 524ms/step - loss: 0.2779 - accuracy: 0.9125\n",
      "Epoch 8/10\n",
      "7/7 [==============================] - 4s 497ms/step - loss: 0.1914 - accuracy: 0.9300\n",
      "Epoch 9/10\n",
      "7/7 [==============================] - 4s 568ms/step - loss: 0.1917 - accuracy: 0.9425\n",
      "Epoch 10/10\n",
      "7/7 [==============================] - 4s 576ms/step - loss: 0.1890 - accuracy: 0.9400\n",
      "2/2 [==============================] - 2s 330ms/step\n"
     ]
    },
    {
     "name": "stderr",
     "output_type": "stream",
     "text": [
      "C:\\Users\\footr\\anaconda3\\Lib\\site-packages\\scikeras\\wrappers.py:915: UserWarning: ``build_fn`` will be renamed to ``model`` in a future release, at which point use of ``build_fn`` will raise an Error instead.\n",
      "  X, y = self._initialize(X, y)\n"
     ]
    },
    {
     "name": "stdout",
     "output_type": "stream",
     "text": [
      "Epoch 1/10\n",
      "7/7 [==============================] - 7s 538ms/step - loss: 2.1717 - accuracy: 0.4600\n",
      "Epoch 2/10\n",
      "7/7 [==============================] - 3s 481ms/step - loss: 1.0525 - accuracy: 0.7375\n",
      "Epoch 3/10\n",
      "7/7 [==============================] - 3s 500ms/step - loss: 0.6281 - accuracy: 0.8350\n",
      "Epoch 4/10\n",
      "7/7 [==============================] - 4s 635ms/step - loss: 0.4770 - accuracy: 0.8725\n",
      "Epoch 5/10\n",
      "7/7 [==============================] - 4s 512ms/step - loss: 0.4735 - accuracy: 0.8725\n",
      "Epoch 6/10\n",
      "7/7 [==============================] - 4s 609ms/step - loss: 0.3377 - accuracy: 0.9125\n",
      "Epoch 7/10\n",
      "7/7 [==============================] - 4s 636ms/step - loss: 0.3105 - accuracy: 0.9075\n",
      "Epoch 8/10\n",
      "7/7 [==============================] - 4s 550ms/step - loss: 0.2398 - accuracy: 0.9050\n",
      "Epoch 9/10\n",
      "7/7 [==============================] - 3s 486ms/step - loss: 0.2296 - accuracy: 0.9300\n",
      "Epoch 10/10\n",
      "7/7 [==============================] - 4s 575ms/step - loss: 0.2691 - accuracy: 0.9200\n",
      "2/2 [==============================] - 2s 284ms/step\n"
     ]
    },
    {
     "name": "stderr",
     "output_type": "stream",
     "text": [
      "C:\\Users\\footr\\anaconda3\\Lib\\site-packages\\scikeras\\wrappers.py:915: UserWarning: ``build_fn`` will be renamed to ``model`` in a future release, at which point use of ``build_fn`` will raise an Error instead.\n",
      "  X, y = self._initialize(X, y)\n"
     ]
    },
    {
     "name": "stdout",
     "output_type": "stream",
     "text": [
      "Epoch 1/10\n",
      "8/8 [==============================] - 8s 624ms/step - loss: 1.7093 - accuracy: 0.4880\n",
      "Epoch 2/10\n",
      "8/8 [==============================] - 5s 628ms/step - loss: 0.8270 - accuracy: 0.7340\n",
      "Epoch 3/10\n",
      "8/8 [==============================] - 5s 626ms/step - loss: 0.6610 - accuracy: 0.7780\n",
      "Epoch 4/10\n",
      "8/8 [==============================] - 5s 565ms/step - loss: 0.5447 - accuracy: 0.8200\n",
      "Epoch 5/10\n",
      "8/8 [==============================] - 5s 574ms/step - loss: 0.4135 - accuracy: 0.8600\n",
      "Epoch 6/10\n",
      "8/8 [==============================] - 5s 586ms/step - loss: 0.3575 - accuracy: 0.8680\n",
      "Epoch 7/10\n",
      "8/8 [==============================] - 5s 572ms/step - loss: 0.3751 - accuracy: 0.8780\n",
      "Epoch 8/10\n",
      "8/8 [==============================] - 5s 575ms/step - loss: 0.2223 - accuracy: 0.9220\n",
      "Epoch 9/10\n",
      "8/8 [==============================] - 5s 605ms/step - loss: 0.2653 - accuracy: 0.9080\n",
      "Epoch 10/10\n",
      "8/8 [==============================] - 4s 547ms/step - loss: 0.2886 - accuracy: 0.9140\n",
      "Melhor accuracy: 0.856000 usando {'optimizer__learning_rate': 0.0001, 'model__neurons': 128}\n",
      "\n",
      "0.834000 (0.068877) com: {'optimizer__learning_rate': 0.0001, 'model__neurons': 64}\n",
      "0.830000 (0.046476) com: {'optimizer__learning_rate': 0.001, 'model__neurons': 64}\n",
      "0.842000 (0.049558) com: {'optimizer__learning_rate': 0.01, 'model__neurons': 64}\n",
      "0.856000 (0.055353) com: {'optimizer__learning_rate': 0.0001, 'model__neurons': 128}\n",
      "0.842000 (0.045343) com: {'optimizer__learning_rate': 0.001, 'model__neurons': 128}\n",
      "0.848000 (0.059127) com: {'optimizer__learning_rate': 0.01, 'model__neurons': 128}\n",
      "0.848000 (0.053814) com: {'optimizer__learning_rate': 0.0001, 'model__neurons': 256}\n",
      "0.838000 (0.054553) com: {'optimizer__learning_rate': 0.001, 'model__neurons': 256}\n",
      "0.832000 (0.042615) com: {'optimizer__learning_rate': 0.01, 'model__neurons': 256}\n"
     ]
    }
   ],
   "source": [
    "rs=RandomizedSearchCV(estimator=model, param_distributions=params, cv=5) \n",
    "\n",
    "rs = rs.fit(train_images, train_labels)\n",
    "best_params=rs.best_params_ \n",
    "accuracy=rs.best_score_ \n",
    "\n",
    "\n",
    "print(\"Melhor accuracy: %f usando %s\\n\" % (accuracy, best_params))\n",
    "means = rs.cv_results_['mean_test_score']\n",
    "stds = rs.cv_results_['std_test_score']\n",
    "param_grid = rs.cv_results_['params']\n",
    "for mean, stdev, param in zip(means, stds, param_grid):\n",
    "    print(\"%f (%f) com: %r\" % (mean, stdev, param))"
   ]
  }
 ],
 "metadata": {
  "kernelspec": {
   "display_name": "Python 3 (ipykernel)",
   "language": "python",
   "name": "python3"
  },
  "language_info": {
   "codemirror_mode": {
    "name": "ipython",
    "version": 3
   },
   "file_extension": ".py",
   "mimetype": "text/x-python",
   "name": "python",
   "nbconvert_exporter": "python",
   "pygments_lexer": "ipython3",
   "version": "3.11.5"
  }
 },
 "nbformat": 4,
 "nbformat_minor": 5
}
